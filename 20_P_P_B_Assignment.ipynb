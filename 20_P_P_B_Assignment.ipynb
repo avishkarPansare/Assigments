{
 "cells": [
  {
   "cell_type": "markdown",
   "id": "apart-eight",
   "metadata": {},
   "source": [
    "## Question1"
   ]
  },
  {
   "cell_type": "raw",
   "id": "mechanical-scoop",
   "metadata": {},
   "source": [
    "\n",
    "Create a function that takes a list of strings and integers, and filters out the list so that it returns a list of integers only.\n",
    "Examples\n",
    "filter_list([1, 2, 3, \"a\", \"b\", 4]) ➞ [1, 2, 3, 4]\n",
    "\n",
    "filter_list([\"A\", 0, \"Edabit\", 1729, \"Python\", \"1729\"]) ➞ [0, 1729]\n",
    "\n",
    "filter_list([\"Nothing\", \"here\"]) ➞ []\n",
    "\n"
   ]
  },
  {
   "cell_type": "code",
   "execution_count": 1,
   "id": "compatible-conviction",
   "metadata": {},
   "outputs": [
    {
     "name": "stdout",
     "output_type": "stream",
     "text": [
      "The give list is :[1, 2, 3, 'a', 'b', 4]\n",
      "The output list [1, 2, 3, 4]\n",
      "\n",
      "\n",
      "\n",
      "The give list is :['A', 0, 'Edabit', 1729, 'Python', '1729']\n",
      "The output list [0, 1729, '1729']\n",
      "\n",
      "\n",
      "\n"
     ]
    }
   ],
   "source": [
    "def filter_list(lst):\n",
    "    lst1=[]\n",
    "    for a in lst:\n",
    "        b=str(a)\n",
    "        if b.isdigit() == True:\n",
    "            lst1.append(a)\n",
    "    return lst1\n",
    "\n",
    "l1=[1, 2, 3, \"a\", \"b\", 4]\n",
    "print(\"The give list is :{0}\\nThe output list {1}\".format(l1,filter_list(l1)))\n",
    "print(\"\\n\\n\")\n",
    "\n",
    "l2=[\"A\", 0, \"Edabit\", 1729, \"Python\", \"1729\"]\n",
    "print(\"The give list is :{0}\\nThe output list {1}\".format(l2,filter_list(l2)))\n",
    "print(\"\\n\\n\")\n"
   ]
  },
  {
   "cell_type": "code",
   "execution_count": null,
   "id": "absent-antigua",
   "metadata": {},
   "outputs": [],
   "source": []
  },
  {
   "cell_type": "markdown",
   "id": "phantom-bunch",
   "metadata": {},
   "source": [
    "## Question2"
   ]
  },
  {
   "cell_type": "raw",
   "id": "answering-advance",
   "metadata": {},
   "source": [
    "\n",
    "Given a list of numbers, create a function which returns the list but with each element's index in the list added to itself. This means you add 0 to the number at index 0, add 1 to the number at index 1, etc...\n",
    "Examples\n",
    "add_indexes([0, 0, 0, 0, 0]) ➞ [0, 1, 2, 3, 4]\n",
    "\n",
    "add_indexes([1, 2, 3, 4, 5]) ➞ [1, 3, 5, 7, 9]\n",
    "\n",
    "add_indexes([5, 4, 3, 2, 1]) ➞ [5, 5, 5, 5, 5]\n"
   ]
  },
  {
   "cell_type": "code",
   "execution_count": 13,
   "id": "industrial-barrier",
   "metadata": {},
   "outputs": [
    {
     "name": "stdout",
     "output_type": "stream",
     "text": [
      "Before : [0, 0, 0, 0, 0]\n",
      "After : [0, 1, 2, 3, 4]\n",
      "\n",
      "\n",
      "\n",
      "Before : [1, 2, 3, 4, 5]\n",
      "After : [1, 3, 5, 7, 9]\n",
      "\n",
      "\n",
      "\n",
      "Before : [5, 4, 3, 2, 1]\n",
      "After : [5, 5, 5, 5, 5]\n",
      "\n",
      "\n",
      "\n"
     ]
    }
   ],
   "source": [
    "def add_index(lst1):\n",
    "    for i in range(len(lst)):\n",
    "      \n",
    "        lst1[i]=lst1[i]+i\n",
    "\n",
    "    return lst\n",
    "lst=[0, 0, 0, 0, 0]\n",
    "print(\"Before :\",lst)\n",
    "print(\"After :\",add_index(lst))\n",
    "print(\"\\n\\n\")\n",
    "lst=[1, 2, 3, 4, 5]\n",
    "print(\"Before :\",lst)\n",
    "print(\"After :\",add_index(lst))\n",
    "print(\"\\n\\n\")\n",
    "lst=[5, 4, 3, 2, 1]\n",
    "print(\"Before :\",lst)\n",
    "print(\"After :\",add_index(lst))\n",
    "print(\"\\n\\n\")"
   ]
  },
  {
   "cell_type": "code",
   "execution_count": null,
   "id": "mediterranean-wonder",
   "metadata": {},
   "outputs": [],
   "source": []
  },
  {
   "cell_type": "markdown",
   "id": "typical-flight",
   "metadata": {},
   "source": [
    "## Question3"
   ]
  },
  {
   "cell_type": "raw",
   "id": "integrated-southeast",
   "metadata": {},
   "source": [
    "\n",
    "Create a function that takes the height and radius of a cone as arguments and returns the volume of the cone rounded to the nearest hundredth. See the resources tab for the formula.\n",
    " \n",
    "Examples\n",
    "cone_volume(3, 2) ➞ 12.57\n",
    "\n",
    "cone_volume(15, 6) ➞ 565.49\n",
    "\n",
    "cone_volume(18, 0) ➞ 0\n"
   ]
  },
  {
   "cell_type": "code",
   "execution_count": 21,
   "id": "asian-gambling",
   "metadata": {},
   "outputs": [
    {
     "name": "stdout",
     "output_type": "stream",
     "text": [
      "12.566370614359172\n",
      "565.4866776461628\n"
     ]
    }
   ],
   "source": [
    "import math\n",
    "def cone_volume(h,r):\n",
    "    volume=(math.pi*r**2)*(h/3)\n",
    "    return volume\n",
    "print(cone_volume(3, 2))\n",
    "print(cone_volume(15, 6))"
   ]
  },
  {
   "cell_type": "code",
   "execution_count": null,
   "id": "veterinary-division",
   "metadata": {},
   "outputs": [],
   "source": []
  },
  {
   "cell_type": "markdown",
   "id": "meaning-proportion",
   "metadata": {},
   "source": [
    "## Question4"
   ]
  },
  {
   "cell_type": "raw",
   "id": "advisory-cooling",
   "metadata": {},
   "source": [
    "This Triangular Number Sequence is generated from a pattern of dots that form a triangle. The first 5 numbers of the sequence, or dots, are: \n",
    "1, 3, 6, 10, 15\n",
    "\n",
    "This means that the first triangle has just one dot, the second one has three dots, the third one has 6 dots and so on.\n",
    "\n",
    "\n",
    " Write a function that gives the number of dots with its corresponding triangle number of the sequence.\n",
    "Examples\n",
    "triangle(1) ➞ 1\n",
    "\n",
    "triangle(6) ➞ 21\n",
    "\n",
    "triangle(215) ➞ 23220\n"
   ]
  },
  {
   "cell_type": "code",
   "execution_count": 23,
   "id": "hidden-mambo",
   "metadata": {},
   "outputs": [
    {
     "name": "stdout",
     "output_type": "stream",
     "text": [
      "21\n",
      "23220\n"
     ]
    }
   ],
   "source": [
    "def triangle(num):\n",
    "    sum=0\n",
    "    for i in range(1,num+1):\n",
    "        sum=sum+i\n",
    "    return sum\n",
    "print(triangle(6))\n",
    "print(triangle(215))"
   ]
  },
  {
   "cell_type": "code",
   "execution_count": null,
   "id": "martial-viking",
   "metadata": {},
   "outputs": [],
   "source": []
  },
  {
   "cell_type": "markdown",
   "id": "elementary-forge",
   "metadata": {},
   "source": [
    "## Question5"
   ]
  },
  {
   "cell_type": "raw",
   "id": "placed-nylon",
   "metadata": {},
   "source": [
    "\n",
    "Create a function that takes a list of numbers between 1 and 10 (excluding one number) and returns the missing number.\n",
    "Examples\n",
    "missing_num([1, 2, 3, 4, 6, 7, 8, 9, 10]) ➞ 5\n",
    "\n",
    "missing_num([7, 2, 3, 6, 5, 9, 1, 4, 8]) ➞ 10\n",
    "\n",
    "missing_num([10, 5, 1, 2, 4, 6, 8, 3, 9]) ➞ 7\n"
   ]
  },
  {
   "cell_type": "code",
   "execution_count": 26,
   "id": "ultimate-donor",
   "metadata": {},
   "outputs": [
    {
     "name": "stdout",
     "output_type": "stream",
     "text": [
      "10\n"
     ]
    }
   ],
   "source": [
    "def getMissingNo(A):\n",
    "    n = len(A)\n",
    "    total = (n + 1)*(n + 2)/2\n",
    "    sum_of_A = sum(A)\n",
    "    return int(total - sum_of_A)\n",
    " \n",
    "# Driver program to test the above function\n",
    "A =[7, 2, 3, 6, 5, 9, 1, 4, 8]\n",
    "miss = getMissingNo(A)\n",
    "print(miss)"
   ]
  },
  {
   "cell_type": "code",
   "execution_count": null,
   "id": "tropical-battle",
   "metadata": {},
   "outputs": [],
   "source": []
  }
 ],
 "metadata": {
  "kernelspec": {
   "display_name": "Python 3",
   "language": "python",
   "name": "python3"
  },
  "language_info": {
   "codemirror_mode": {
    "name": "ipython",
    "version": 3
   },
   "file_extension": ".py",
   "mimetype": "text/x-python",
   "name": "python",
   "nbconvert_exporter": "python",
   "pygments_lexer": "ipython3",
   "version": "3.9.1"
  }
 },
 "nbformat": 4,
 "nbformat_minor": 5
}
