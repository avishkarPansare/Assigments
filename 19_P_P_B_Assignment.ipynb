{
 "cells": [
  {
   "cell_type": "markdown",
   "id": "cooked-charleston",
   "metadata": {},
   "source": [
    "## Question1"
   ]
  },
  {
   "cell_type": "raw",
   "id": "typical-taste",
   "metadata": {},
   "source": [
    "\n",
    "Create a function that takes a string and returns a string in which each character is repeated once.\n",
    "Examples\n",
    "double_char(\"String\") ➞ \"SSttrriinngg\"\n",
    "\n",
    "double_char(\"Hello World!\") ➞ \"HHeelllloo  WWoorrlldd!!\"\n",
    "\n",
    "double_char(\"1234!_ \") ➞ \"11223344!!__  \"\n"
   ]
  },
  {
   "cell_type": "code",
   "execution_count": 12,
   "id": "orange-sierra",
   "metadata": {},
   "outputs": [
    {
     "name": "stdout",
     "output_type": "stream",
     "text": [
      "The give string is : String\n",
      "The new string is : SSttrriinngg\n",
      "\n",
      "\n",
      "\n",
      "The give string is : Hello World!\n",
      "The new string is : HHeelllloo  WWoorrlldd!!\n",
      "\n",
      "\n",
      "\n",
      "The give string is : 1234!_ \n",
      "The new string is : 11223344!!__  \n",
      "\n",
      "\n",
      "\n"
     ]
    }
   ],
   "source": [
    "def double_char(s):\n",
    "    new=''\n",
    "    for i in range(len(s)):\n",
    "        new +=s[i]+s[i]\n",
    "    return new\n",
    "s='String'\n",
    "print(\"The give string is : {0}\\nThe new string is : {1}\".format(s,double_char(s)))\n",
    "print(\"\\n\\n\")\n",
    "s=\"Hello World!\"\n",
    "print(\"The give string is : {0}\\nThe new string is : {1}\".format(s,double_char(s)))\n",
    "print(\"\\n\\n\")\n",
    "s=\"1234!_ \"\n",
    "print(\"The give string is : {0}\\nThe new string is : {1}\".format(s,double_char(s)))\n",
    "print(\"\\n\\n\")\n"
   ]
  },
  {
   "cell_type": "code",
   "execution_count": null,
   "id": "hungry-joint",
   "metadata": {},
   "outputs": [],
   "source": []
  },
  {
   "cell_type": "markdown",
   "id": "silent-reservoir",
   "metadata": {},
   "source": [
    "## Question2"
   ]
  },
  {
   "cell_type": "raw",
   "id": "beneficial-potato",
   "metadata": {},
   "source": [
    "\n",
    "Create a function that reverses a boolean value and returns the string \"boolean expected\" if another variable type is given.\n",
    "Examples\n",
    "reverse(True) ➞ False\n",
    "\n",
    "reverse(False) ➞ True\n",
    "\n",
    "reverse(0) ➞ \"boolean expected\"\n",
    "\n",
    "reverse(None) ➞ \"boolean expected\"\n",
    "\n"
   ]
  },
  {
   "cell_type": "code",
   "execution_count": 10,
   "id": "technical-looking",
   "metadata": {},
   "outputs": [
    {
     "name": "stdout",
     "output_type": "stream",
     "text": [
      "False\n",
      "True\n",
      "boolean expected\n",
      "boolean expected\n"
     ]
    }
   ],
   "source": [
    "def reverse(arg):\n",
    "    if isinstance(arg, bool):\n",
    "        return not arg\n",
    "    else:\n",
    "        return('boolean expected')\n",
    "\n",
    "def reverse(arg=None):\n",
    "    return not arg if type(arg) == bool else \"boolean expected\"\n",
    "\n",
    "print(reverse(True)) # False\n",
    "print(reverse(False)) # True\n",
    "print(reverse(0)) # \"boolean expected\"\n",
    "print(reverse(None)) # \"boolean expected\""
   ]
  },
  {
   "cell_type": "code",
   "execution_count": null,
   "id": "simple-research",
   "metadata": {},
   "outputs": [],
   "source": []
  },
  {
   "cell_type": "markdown",
   "id": "agricultural-saint",
   "metadata": {},
   "source": [
    "## Question3\n"
   ]
  },
  {
   "cell_type": "raw",
   "id": "invalid-lemon",
   "metadata": {},
   "source": [
    "Create a function that returns the thickness (in meters) of a piece of paper after folding it n number of times. The paper starts off with a thickness of 0.5mm.\n",
    "Examples\n",
    "num_layers(1) ➞ \"0.001m\"\n",
    "# Paper folded once is 1mm (equal to 0.001m)\n",
    "\n",
    "num_layers(4) ➞ \"0.008m\"\n",
    "# Paper folded 4 times is 8mm (equal to 0.008m)\n",
    "\n",
    "num_layers(21) ➞ \"1048.576m\"\n",
    "# Paper folded 21 times is 1048576mm (equal to 1048.576m)\n"
   ]
  },
  {
   "cell_type": "code",
   "execution_count": 20,
   "id": "sitting-mining",
   "metadata": {},
   "outputs": [
    {
     "name": "stdout",
     "output_type": "stream",
     "text": [
      "0.008\n",
      "1048.576\n",
      "0.001\n"
     ]
    }
   ],
   "source": [
    "def num_layers(a):\n",
    "    res = 0.5\n",
    "    for _ in range(a):\n",
    "        res *= 2\n",
    "    # return res for mm\n",
    "    return res / 1000 # for meters\n",
    "\n",
    "print(num_layers(4))\n",
    "print(num_layers(21))\n",
    "print(num_layers(1))"
   ]
  },
  {
   "cell_type": "code",
   "execution_count": null,
   "id": "handy-intellectual",
   "metadata": {},
   "outputs": [],
   "source": []
  },
  {
   "cell_type": "markdown",
   "id": "saved-fortune",
   "metadata": {},
   "source": [
    "## Question4"
   ]
  },
  {
   "cell_type": "raw",
   "id": "relative-viking",
   "metadata": {},
   "source": [
    "Question4\n",
    "Create a function that takes a single string as argument and returns an ordered list containing the indices of all capital letters in the string.\n",
    "Examples\n",
    "index_of_caps(\"eDaBiT\") ➞ [1, 3, 5]\n",
    "\n",
    "index_of_caps(\"eQuINoX\") ➞ [1, 3, 4, 6]\n",
    "\n",
    "index_of_caps(\"determine\") ➞ []\n",
    "\n",
    "index_of_caps(\"STRIKE\") ➞ [0, 1, 2, 3, 4, 5]\n",
    "\n",
    "index_of_caps(\"sUn\") ➞ [1]\n"
   ]
  },
  {
   "cell_type": "code",
   "execution_count": 32,
   "id": "advance-railway",
   "metadata": {},
   "outputs": [
    {
     "name": "stdout",
     "output_type": "stream",
     "text": [
      "The give string is : eDaBiT\n",
      "The captial index list :[1, 3, 5]\n",
      "\n",
      "\n",
      "\n",
      "The give string is : eQuINoX\n",
      "The captial index list :[1, 3, 4, 6]\n",
      "\n",
      "\n",
      "\n",
      "The give string is : determine\n",
      "The captial index list :[]\n",
      "\n",
      "\n",
      "\n",
      "The give string is : STRIKE\n",
      "The captial index list :[0, 1, 2, 3, 4, 5]\n",
      "\n",
      "\n",
      "\n",
      "The give string is : sUn\n",
      "The captial index list :[1]\n",
      "\n",
      "\n",
      "\n"
     ]
    }
   ],
   "source": [
    "def index_of_caps(s):\n",
    "    lst=[]\n",
    "    for i in range(len(s)):\n",
    "        if s[i].isupper() == True:\n",
    "            lst.append(i)\n",
    "    return lst\n",
    "s=\"eDaBiT\"\n",
    "print(\"The give string is : {0}\\nThe captial index list :{1}\".format(s,index_of_caps(s)))\n",
    "print(\"\\n\\n\")\n",
    "s=\"eQuINoX\"\n",
    "print(\"The give string is : {0}\\nThe captial index list :{1}\".format(s,index_of_caps(s)))\n",
    "print(\"\\n\\n\")\n",
    "s=\"determine\"\n",
    "print(\"The give string is : {0}\\nThe captial index list :{1}\".format(s,index_of_caps(s)))\n",
    "print(\"\\n\\n\")\n",
    "s=\"STRIKE\"\n",
    "print(\"The give string is : {0}\\nThe captial index list :{1}\".format(s,index_of_caps(s)))\n",
    "print(\"\\n\\n\")\n",
    "s=\"sUn\"\n",
    "print(\"The give string is : {0}\\nThe captial index list :{1}\".format(s,index_of_caps(s)))\n",
    "print(\"\\n\\n\")\n"
   ]
  },
  {
   "cell_type": "code",
   "execution_count": null,
   "id": "stable-fruit",
   "metadata": {},
   "outputs": [],
   "source": []
  },
  {
   "cell_type": "markdown",
   "id": "hawaiian-catalog",
   "metadata": {},
   "source": [
    "## Question5"
   ]
  },
  {
   "cell_type": "raw",
   "id": "metric-battery",
   "metadata": {},
   "source": [
    "\n",
    "Using list comprehensions, create a function that finds all even numbers from 1 to the given number.\n",
    "Examples\n",
    "find_even_nums(8) ➞ [2, 4, 6, 8]\n",
    "\n",
    "find_even_nums(4) ➞ [2, 4]\n",
    "\n",
    "find_even_nums(2) ➞ [2]\n",
    "\n"
   ]
  },
  {
   "cell_type": "code",
   "execution_count": 35,
   "id": "direct-moldova",
   "metadata": {},
   "outputs": [
    {
     "name": "stdout",
     "output_type": "stream",
     "text": [
      "Enter number 8\n",
      "[2, 4, 6, 8]\n"
     ]
    }
   ],
   "source": [
    "def find_even_nums(num):\n",
    "    even_lst=[]\n",
    "    for i in range(1,num+1):\n",
    "        if i%2==0:\n",
    "            even_lst.append(i)\n",
    "    return even_lst\n",
    "num=int(input(\"Enter number \"))\n",
    "print(find_even_nums(num))"
   ]
  },
  {
   "cell_type": "code",
   "execution_count": null,
   "id": "employed-drunk",
   "metadata": {},
   "outputs": [],
   "source": []
  }
 ],
 "metadata": {
  "kernelspec": {
   "display_name": "Python 3",
   "language": "python",
   "name": "python3"
  },
  "language_info": {
   "codemirror_mode": {
    "name": "ipython",
    "version": 3
   },
   "file_extension": ".py",
   "mimetype": "text/x-python",
   "name": "python",
   "nbconvert_exporter": "python",
   "pygments_lexer": "ipython3",
   "version": "3.9.1"
  }
 },
 "nbformat": 4,
 "nbformat_minor": 5
}
