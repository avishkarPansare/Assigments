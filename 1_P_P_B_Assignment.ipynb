{
 "cells": [
  {
   "cell_type": "markdown",
   "id": "occasional-bicycle",
   "metadata": {},
   "source": [
    "1.Write a Python program to print \"Hello Python\"?"
   ]
  },
  {
   "cell_type": "code",
   "execution_count": 1,
   "id": "divine-hawaiian",
   "metadata": {},
   "outputs": [
    {
     "name": "stdout",
     "output_type": "stream",
     "text": [
      "Hello Python\n"
     ]
    }
   ],
   "source": [
    "print('Hello Python')"
   ]
  },
  {
   "cell_type": "code",
   "execution_count": 2,
   "id": "abroad-impression",
   "metadata": {},
   "outputs": [
    {
     "name": "stdout",
     "output_type": "stream",
     "text": [
      "Hello Python\n"
     ]
    }
   ],
   "source": [
    "print(\"Hello Python\")"
   ]
  },
  {
   "cell_type": "code",
   "execution_count": null,
   "id": "chicken-loading",
   "metadata": {},
   "outputs": [],
   "source": []
  },
  {
   "cell_type": "markdown",
   "id": "dominant-photography",
   "metadata": {},
   "source": [
    "2.\tWrite a Python program to do arithmetical operations addition and division.?"
   ]
  },
  {
   "cell_type": "code",
   "execution_count": 3,
   "id": "descending-baseline",
   "metadata": {},
   "outputs": [
    {
     "name": "stdout",
     "output_type": "stream",
     "text": [
      "The value of a is : 10\n",
      "The value of b is : 30\n",
      "The Addition is : 40\n",
      "The division is : 3.0\n"
     ]
    }
   ],
   "source": [
    "a=10 \n",
    "b=30\n",
    "print('The value of a is :',a)\n",
    "print('The value of b is :',b)\n",
    "c=a+b\n",
    "d=b/a\n",
    "print('The Addition is :',c)\n",
    "print('The division is :',d)"
   ]
  },
  {
   "cell_type": "code",
   "execution_count": null,
   "id": "blank-assurance",
   "metadata": {},
   "outputs": [],
   "source": []
  },
  {
   "cell_type": "markdown",
   "id": "numeric-testing",
   "metadata": {},
   "source": [
    "3.\tWrite a Python program to find the area of a triangle?"
   ]
  },
  {
   "cell_type": "code",
   "execution_count": 4,
   "id": "organizational-basement",
   "metadata": {},
   "outputs": [
    {
     "name": "stdout",
     "output_type": "stream",
     "text": [
      "The height of triangle is : 40\n",
      "The base of triangle is : 20\n",
      "The area of triangle is : 400.0\n"
     ]
    }
   ],
   "source": [
    "base=20\n",
    "height=40\n",
    "print('The height of triangle is :',height)\n",
    "print('The base of triangle is :',base)\n",
    "area=(base*height)/2\n",
    "print('The area of triangle is :',area)"
   ]
  },
  {
   "cell_type": "code",
   "execution_count": null,
   "id": "communist-service",
   "metadata": {},
   "outputs": [],
   "source": []
  },
  {
   "cell_type": "markdown",
   "id": "promotional-facility",
   "metadata": {},
   "source": [
    "4.\tWrite a Python program to swap two variables?"
   ]
  },
  {
   "cell_type": "code",
   "execution_count": 5,
   "id": "geographic-organizer",
   "metadata": {},
   "outputs": [
    {
     "name": "stdout",
     "output_type": "stream",
     "text": [
      "The value of 'a' before swaping a : 10\n",
      "The value of 'b' before swaping a : 20\n",
      "The value of 'a' after  swaping a : 20\n",
      "The value of 'b' after  swaping a : 10\n"
     ]
    }
   ],
   "source": [
    "a=10\n",
    "b=20\n",
    "print(\"The value of 'a' before swaping a :\",a)\n",
    "print(\"The value of 'b' before swaping a :\",b)\n",
    "temp=a\n",
    "a=b\n",
    "b=temp\n",
    "print(\"The value of 'a' after  swaping a :\",a)\n",
    "print(\"The value of 'b' after  swaping a :\",b)\n",
    "\n"
   ]
  },
  {
   "cell_type": "code",
   "execution_count": 6,
   "id": "prostate-simon",
   "metadata": {},
   "outputs": [
    {
     "name": "stdout",
     "output_type": "stream",
     "text": [
      "The value of 'a' before swaping a : 10\n",
      "The value of 'b' before swaping a : 20\n",
      "The value of 'a' after  swaping a : 20\n",
      "The value of 'b' after  swaping a : 10\n"
     ]
    }
   ],
   "source": [
    "a=10\n",
    "b=20\n",
    "print(\"The value of 'a' before swaping a :\",a)\n",
    "print(\"The value of 'b' before swaping a :\",b)\n",
    "\n",
    "a,b=b,a\n",
    "\n",
    "print(\"The value of 'a' after  swaping a :\",a)\n",
    "print(\"The value of 'b' after  swaping a :\",b)\n",
    "\n"
   ]
  },
  {
   "cell_type": "code",
   "execution_count": null,
   "id": "reverse-screen",
   "metadata": {},
   "outputs": [],
   "source": []
  },
  {
   "cell_type": "code",
   "execution_count": 7,
   "id": "august-electronics",
   "metadata": {},
   "outputs": [
    {
     "name": "stdout",
     "output_type": "stream",
     "text": [
      "Object `number` not found.\n"
     ]
    }
   ],
   "source": []
  },
  {
   "cell_type": "code",
   "execution_count": null,
   "id": "wicked-librarian",
   "metadata": {},
   "outputs": [],
   "source": [
    "5.\tWrite a Python program to generate a random number"
   ]
  },
  {
   "cell_type": "code",
   "execution_count": 9,
   "id": "qualified-relation",
   "metadata": {},
   "outputs": [
    {
     "name": "stdout",
     "output_type": "stream",
     "text": [
      "0.685236744213587\n"
     ]
    }
   ],
   "source": [
    "import random \n",
    "n = random. random()\n",
    "print(n)"
   ]
  },
  {
   "cell_type": "code",
   "execution_count": null,
   "id": "animated-pilot",
   "metadata": {},
   "outputs": [],
   "source": []
  }
 ],
 "metadata": {
  "kernelspec": {
   "display_name": "Python 3",
   "language": "python",
   "name": "python3"
  },
  "language_info": {
   "codemirror_mode": {
    "name": "ipython",
    "version": 3
   },
   "file_extension": ".py",
   "mimetype": "text/x-python",
   "name": "python",
   "nbconvert_exporter": "python",
   "pygments_lexer": "ipython3",
   "version": "3.9.1"
  }
 },
 "nbformat": 4,
 "nbformat_minor": 5
}
