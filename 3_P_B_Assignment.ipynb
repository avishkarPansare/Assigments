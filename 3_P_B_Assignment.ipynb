{
 "cells": [
  {
   "cell_type": "markdown",
   "id": "coral-comment",
   "metadata": {},
   "source": [
    "1. Why are functions advantageous to have in your programs?"
   ]
  },
  {
   "cell_type": "raw",
   "id": "combined-trinity",
   "metadata": {},
   "source": [
    "Functions reduce the need for duplicate code. \n",
    "This makes programs shorter\n",
    "This makes programs easier to read\n",
    "easier to update."
   ]
  },
  {
   "cell_type": "markdown",
   "id": "angry-moore",
   "metadata": {},
   "source": [
    "2. When does the code in a function run: when it's specified or when it's called?"
   ]
  },
  {
   "cell_type": "raw",
   "id": "economic-canvas",
   "metadata": {},
   "source": [
    "when function called"
   ]
  },
  {
   "cell_type": "markdown",
   "id": "average-conviction",
   "metadata": {},
   "source": [
    "3. What statement creates a function?"
   ]
  },
  {
   "cell_type": "raw",
   "id": "sorted-isaac",
   "metadata": {},
   "source": [
    "To create function => def key word is used \n",
    "syntax : def function_name()"
   ]
  },
  {
   "cell_type": "markdown",
   "id": "cardiac-cliff",
   "metadata": {},
   "source": [
    "4. What is the difference between a function and a function call?"
   ]
  },
  {
   "cell_type": "raw",
   "id": "electric-tract",
   "metadata": {},
   "source": [
    "function\n",
    "A function consists of the def statement and the code in its def clause.\n",
    "function call\n",
    "A function call is what moves the program execution into the function,\n",
    "and the function call evaluates to the function's return value."
   ]
  },
  {
   "cell_type": "markdown",
   "id": "thorough-pearl",
   "metadata": {},
   "source": [
    "5. How many global scopes are there in a Python program? How many local scopes?"
   ]
  },
  {
   "cell_type": "raw",
   "id": "tested-visitor",
   "metadata": {},
   "source": [
    "There is one global scope, and a local scope is created whenever a function is called."
   ]
  },
  {
   "cell_type": "markdown",
   "id": "golden-union",
   "metadata": {},
   "source": [
    "6. What happens to variables in a local scope when the function call returns?"
   ]
  },
  {
   "cell_type": "raw",
   "id": "great-dimension",
   "metadata": {},
   "source": [
    "When a function returns, the local scope is destroyed, and all the variables in it are forgotten."
   ]
  },
  {
   "cell_type": "markdown",
   "id": "studied-liability",
   "metadata": {},
   "source": [
    "7. What is the concept of a return value? Is it possible to have a return value in an expression?"
   ]
  },
  {
   "cell_type": "raw",
   "id": "banned-mambo",
   "metadata": {},
   "source": [
    "A return value is the value that a function call evaluates to\n",
    "a return value can be used as part of an expression."
   ]
  },
  {
   "cell_type": "markdown",
   "id": "transparent-complaint",
   "metadata": {},
   "source": [
    "8. If a function does not have a return statement, what is the return value of a call to that function?"
   ]
  },
  {
   "cell_type": "raw",
   "id": "floppy-burning",
   "metadata": {},
   "source": [
    "return none value"
   ]
  },
  {
   "cell_type": "markdown",
   "id": "annoying-bennett",
   "metadata": {},
   "source": [
    "9. How do you make a function variable refer to the global variable?"
   ]
  },
  {
   "cell_type": "raw",
   "id": "furnished-lyric",
   "metadata": {},
   "source": [
    "A global statement will force a variable in a function to refer to the global variable."
   ]
  },
  {
   "cell_type": "markdown",
   "id": "operating-combine",
   "metadata": {},
   "source": [
    "10. What is the data type of None?"
   ]
  },
  {
   "cell_type": "raw",
   "id": "interior-bikini",
   "metadata": {},
   "source": [
    "Nonetype"
   ]
  },
  {
   "cell_type": "code",
   "execution_count": 2,
   "id": "exact-military",
   "metadata": {},
   "outputs": [
    {
     "data": {
      "text/plain": [
       "NoneType"
      ]
     },
     "execution_count": 2,
     "metadata": {},
     "output_type": "execute_result"
    }
   ],
   "source": [
    "type(None)"
   ]
  },
  {
   "cell_type": "markdown",
   "id": "wanted-november",
   "metadata": {},
   "source": [
    "11. What does the sentence import areallyourpetsnamederic do?"
   ]
  },
  {
   "cell_type": "raw",
   "id": "animated-humor",
   "metadata": {},
   "source": [
    "That import statement imports a module named areallyourpetsnamederic"
   ]
  },
  {
   "cell_type": "markdown",
   "id": "intended-server",
   "metadata": {},
   "source": [
    "12. If you had a bacon() feature in a spam module, what would you call it after importing spam?"
   ]
  },
  {
   "cell_type": "raw",
   "id": "green-belief",
   "metadata": {},
   "source": [
    "his function can be called with spam.bacon()."
   ]
  },
  {
   "cell_type": "markdown",
   "id": "automatic-assessment",
   "metadata": {},
   "source": [
    "13. What can you do to save a programme from crashing if it encounters an error?"
   ]
  },
  {
   "cell_type": "raw",
   "id": "promotional-chile",
   "metadata": {},
   "source": [
    "line of code that might cause an error in a try clause."
   ]
  },
  {
   "cell_type": "markdown",
   "id": "widespread-dublin",
   "metadata": {},
   "source": [
    "14. What is the purpose of the try clause? What is the purpose of the except clause?"
   ]
  },
  {
   "cell_type": "raw",
   "id": "electronic-pendant",
   "metadata": {},
   "source": [
    "The code that could potentially cause an error goes in the try clause.\n",
    "\n",
    "The code that executes if an error happens goes in the except clause"
   ]
  }
 ],
 "metadata": {
  "kernelspec": {
   "display_name": "Python 3",
   "language": "python",
   "name": "python3"
  },
  "language_info": {
   "codemirror_mode": {
    "name": "ipython",
    "version": 3
   },
   "file_extension": ".py",
   "mimetype": "text/x-python",
   "name": "python",
   "nbconvert_exporter": "python",
   "pygments_lexer": "ipython3",
   "version": "3.9.1"
  }
 },
 "nbformat": 4,
 "nbformat_minor": 5
}
