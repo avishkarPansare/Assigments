{
 "cells": [
  {
   "cell_type": "markdown",
   "id": "activated-radio",
   "metadata": {},
   "source": [
    "1. In the below elements which of them are values or an expression? eg:- values can be integer or string and expressions will be mathematical operators. "
   ]
  },
  {
   "cell_type": "raw",
   "id": "appointed-session",
   "metadata": {},
   "source": [
    "  * \n",
    "        => mathematical operators\n",
    "'hello' \n",
    "        =>  string\n",
    "-87.8\t\t\t\n",
    "        => integer value\n",
    "-         \t\t\t\n",
    "        => mathematical operators\n",
    "/ \t\t\t\n",
    "        => mathematical operators\n",
    "+\t     \t\t\n",
    "        => mathematical operators\n",
    "6 \t\t\t\n",
    "        => integer value\n"
   ]
  },
  {
   "cell_type": "markdown",
   "id": "bulgarian-integration",
   "metadata": {},
   "source": [
    "2. What is the difference between string and variable?"
   ]
  },
  {
   "cell_type": "raw",
   "id": "superior-coast",
   "metadata": {},
   "source": [
    "A Variable is a store of information, and a String is a type of information you would store in a Variable.\n",
    "A String is usually words, enclosed \n",
    "Var=”avishkar”\n",
    "Var is variable that stored the value and “avishkar” is string \n"
   ]
  },
  {
   "cell_type": "markdown",
   "id": "serious-compensation",
   "metadata": {},
   "source": [
    "3. Describe three different data types."
   ]
  },
  {
   "cell_type": "raw",
   "id": "expected-crossing",
   "metadata": {},
   "source": [
    "Integer\n",
    "This will be stroed the numric value\n",
    "\n",
    "String \n",
    "This will stored the numbers characters (like name )\n",
    "\n",
    "Boolen\n",
    "This will stroed only two value True and False \n"
   ]
  },
  {
   "cell_type": "markdown",
   "id": "fuzzy-turkey",
   "metadata": {},
   "source": [
    "4. What is an expression made up of? What do all expressions do?"
   ]
  },
  {
   "cell_type": "raw",
   "id": "seasonal-cancellation",
   "metadata": {},
   "source": [
    "An expression is a construct made up of variables, operators, and method invocations, \n",
    "which are constructed according to the syntax of the language, \n",
    "that evaluates to a single value. \n",
    "As you can see from the other expressions, \n",
    "an expression can return other types of values as well, such as boolean or String"
   ]
  },
  {
   "cell_type": "markdown",
   "id": "through-reproduction",
   "metadata": {},
   "source": [
    "5. This assignment statements, like spam = 10. What is the difference between an expression and a statement?"
   ]
  },
  {
   "cell_type": "raw",
   "id": "separate-glance",
   "metadata": {},
   "source": [
    "An expression evaluates to a value. A statement does something. \n",
    "Statements represent an action or command e.g print statements, assignment statements. (spam=10)\n",
    "Expression is a combination of variables, operations and values that yields a result value .(spam+5)"
   ]
  },
  {
   "cell_type": "markdown",
   "id": "induced-consortium",
   "metadata": {},
   "source": [
    "6. After running the following code, what does the variable bacon contain?\n",
    "bacon = 22\n",
    "bacon + 1\n"
   ]
  },
  {
   "cell_type": "raw",
   "id": "eight-store",
   "metadata": {},
   "source": [
    "bacon =22\n",
    "bacon + 1\n",
    "\n",
    "then value of bacon = 23"
   ]
  },
  {
   "cell_type": "markdown",
   "id": "according-humor",
   "metadata": {},
   "source": [
    "7. What should the values of the following two terms be?\n",
    "'spam' + 'spamspam'\n",
    "                    'spam' * 3\n"
   ]
  },
  {
   "cell_type": "raw",
   "id": "governmental-audio",
   "metadata": {},
   "source": [
    "Both expressions evaluate to the string 'spamspamspam'"
   ]
  },
  {
   "cell_type": "markdown",
   "id": "dutch-stuart",
   "metadata": {},
   "source": [
    "8. Why is eggs a valid variable name while 100 is invalid?"
   ]
  },
  {
   "cell_type": "raw",
   "id": "excess-innocent",
   "metadata": {},
   "source": [
    "The variable name not shuold be number"
   ]
  },
  {
   "cell_type": "markdown",
   "id": "latest-degree",
   "metadata": {},
   "source": [
    "9. What three functions can be used to get the integer, floating-point number, or string version of a value?"
   ]
  },
  {
   "cell_type": "raw",
   "id": "adaptive-democrat",
   "metadata": {},
   "source": [
    "integer \n",
    "            => int()\n",
    "floating-point\n",
    "            =>float()\n",
    "string\n",
    "            =>str()"
   ]
  },
  {
   "cell_type": "markdown",
   "id": "immune-ethernet",
   "metadata": {},
   "source": [
    "10. Why does this expression cause an error? How can you fix it?\n",
    "'I have eaten ' + 99 + ' burritos.'\n"
   ]
  },
  {
   "cell_type": "raw",
   "id": "structured-friendly",
   "metadata": {},
   "source": [
    "This expression give error because string and integer concate\n",
    "there for the fix expression will be => 'I have eaten ' + '99' + ' burritos.'\n",
    "or\n",
    "'I have eaten ' + str(99) + ' burritos.'"
   ]
  },
  {
   "cell_type": "code",
   "execution_count": 2,
   "id": "green-disabled",
   "metadata": {},
   "outputs": [
    {
     "data": {
      "text/plain": [
       "'I have eaten 99 burritos.'"
      ]
     },
     "execution_count": 2,
     "metadata": {},
     "output_type": "execute_result"
    }
   ],
   "source": [
    "'I have eaten ' + '99' + ' burritos.'"
   ]
  },
  {
   "cell_type": "code",
   "execution_count": 3,
   "id": "novel-currency",
   "metadata": {},
   "outputs": [
    {
     "data": {
      "text/plain": [
       "'I have eaten 99 burritos.'"
      ]
     },
     "execution_count": 3,
     "metadata": {},
     "output_type": "execute_result"
    }
   ],
   "source": [
    "'I have eaten ' + str(99) + ' burritos.'"
   ]
  },
  {
   "cell_type": "code",
   "execution_count": null,
   "id": "incorporated-eagle",
   "metadata": {},
   "outputs": [],
   "source": []
  }
 ],
 "metadata": {
  "kernelspec": {
   "display_name": "Python 3",
   "language": "python",
   "name": "python3"
  },
  "language_info": {
   "codemirror_mode": {
    "name": "ipython",
    "version": 3
   },
   "file_extension": ".py",
   "mimetype": "text/x-python",
   "name": "python",
   "nbconvert_exporter": "python",
   "pygments_lexer": "ipython3",
   "version": "3.9.1"
  }
 },
 "nbformat": 4,
 "nbformat_minor": 5
}
