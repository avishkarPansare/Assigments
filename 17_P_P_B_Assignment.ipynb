{
 "cells": [
  {
   "cell_type": "markdown",
   "id": "equipped-booking",
   "metadata": {},
   "source": [
    "## Question1. "
   ]
  },
  {
   "cell_type": "raw",
   "id": "spatial-browser",
   "metadata": {},
   "source": [
    "Create a function that takes three arguments a, b, c and returns the sum of the numbers that are evenly divided by c from the range a, b inclusive.\n",
    "Examples\n",
    "evenly_divisible(1, 10, 20) ➞ 0\n",
    "# No number between 1 and 10 can be evenly divided by 20.\n",
    "\n",
    "evenly_divisible(1, 10, 2) ➞ 30\n",
    "# 2 + 4 + 6 + 8 + 10 = 30\n",
    "\n",
    "evenly_divisible(1, 10, 3) ➞ 18\n",
    "# 3 + 6 + 9 = 18\n",
    "\n"
   ]
  },
  {
   "cell_type": "code",
   "execution_count": 17,
   "id": "fewer-right",
   "metadata": {},
   "outputs": [
    {
     "name": "stdout",
     "output_type": "stream",
     "text": [
      "Enter the start 1\n",
      "Enter the limit 10\n",
      "Enter the stepsize 2\n",
      "The evenly_divisible(1  10  2) ==> 30\n"
     ]
    }
   ],
   "source": [
    "def evenly_divisible(start, limit, step):\n",
    "    sum=0\n",
    "    for i in range(start,limit,step):\n",
    "        sum=sum+i\n",
    "    return sum\n",
    "start=int(input(\"Enter the start \"))\n",
    "limit=int(input(\"Enter the limit \"))\n",
    "step=int(input(\"Enter the stepsize \"))\n",
    "ans=evenly_divisible(start-1,limit+1,step)\n",
    "print(\"The evenly_divisible({0}  {1}  {2}) ==>\".format(start,limit,step),ans)"
   ]
  },
  {
   "cell_type": "code",
   "execution_count": null,
   "id": "judicial-calibration",
   "metadata": {},
   "outputs": [],
   "source": []
  },
  {
   "cell_type": "markdown",
   "id": "italic-scene",
   "metadata": {},
   "source": [
    "## Question2 "
   ]
  },
  {
   "cell_type": "raw",
   "id": "aboriginal-murder",
   "metadata": {},
   "source": [
    "Create a function that returns True if a given inequality expression is correct and False otherwise.\n",
    "Examples\n",
    "correct_signs(\"3 < 7 < 11\") ➞ True\n",
    "\n",
    "correct_signs(\"13 > 44 > 33 > 1\") ➞ False\n",
    "\n",
    "correct_signs(\"1 < 2 < 6 < 9 > 3\") ➞ True\n"
   ]
  },
  {
   "cell_type": "code",
   "execution_count": 38,
   "id": "speaking-edition",
   "metadata": {},
   "outputs": [
    {
     "name": "stdout",
     "output_type": "stream",
     "text": [
      "False\n",
      "0 13\n",
      "0 >\n",
      "0 44\n",
      "Hi 44 33 3\n",
      "1 >\n",
      "1 33\n",
      "Hi 33 100 5\n",
      "1 >\n",
      "1 100\n",
      "Ture\n"
     ]
    }
   ],
   "source": [
    "s1=\"13 > 44 > 33 > 100\"\n",
    "s2=s1.split(\" \")\n",
    "print(s2[0] > s2[2])\n",
    "f=0\n",
    "for i in range(len(s2)):\n",
    "    if s2[i]=='>':\n",
    "        if s2[i-1] >s2[i+1]:\n",
    "            print(\"Hi\",s2[i-1],s2[i+1],i)\n",
    "            f=1\n",
    "        else:\n",
    "            f=0\n",
    "    elif s2[i]=='<':\n",
    "        if s2[i-1] < s2[i+1]:\n",
    "            f=1\n",
    "        else:\n",
    "            f=0\n",
    "    print(f,s2[i])\n",
    "if f==1:\n",
    "    print(\"Ture\")\n",
    "else:\n",
    "    print(\"False\")"
   ]
  },
  {
   "cell_type": "code",
   "execution_count": null,
   "id": "illegal-guard",
   "metadata": {},
   "outputs": [],
   "source": []
  },
  {
   "cell_type": "code",
   "execution_count": null,
   "id": "tamil-component",
   "metadata": {},
   "outputs": [],
   "source": []
  },
  {
   "cell_type": "markdown",
   "id": "damaged-quest",
   "metadata": {},
   "source": [
    "## Question3. "
   ]
  },
  {
   "cell_type": "raw",
   "id": "spread-shuttle",
   "metadata": {},
   "source": [
    "Create a function that replaces all the vowels in a string with a specified character.\n",
    "Examples\n",
    "replace_vowels(\"the aardvark\", \"#\") ➞ \"th# ##rdv#rk\"\n",
    "\n",
    "replace_vowels(\"minnie mouse\", \"?\") ➞ \"m?nn?? m??s?\"\n",
    "\n",
    "replace_vowels(\"shakespeare\", \"*\") ➞ \"sh*k*sp**r*\"\n"
   ]
  },
  {
   "cell_type": "code",
   "execution_count": 44,
   "id": "quarterly-water",
   "metadata": {},
   "outputs": [
    {
     "name": "stdout",
     "output_type": "stream",
     "text": [
      "Enter your string :minnie mouse\n",
      "Enter the symbol to replace the vowels?\n",
      "Given Sting: \t minnie mouse\n",
      "Given Specified Character:\t ?\n",
      "Afer replacing vowels with the specified character:\t\t m?nn?? m??s?\n"
     ]
    }
   ],
   "source": [
    "def replace_vowel(test_str, K):\n",
    "    vowels = 'AEIOUaeiou'\n",
    "    \n",
    "    for ele in vowels:\n",
    "        test_str = test_str.replace(ele, K)\n",
    "  \n",
    "    return test_str\n",
    "  \n",
    "  \n",
    "    \n",
    "# Driver Code\n",
    "# input string\n",
    "input_str =input(\"Enter your string :\")\n",
    "  \n",
    "# specified character\n",
    "K =input(\"Enter the symbol to replace the vowels\")\n",
    "  \n",
    "# printing input\n",
    "print(\"Given Sting: \\t\", input_str)\n",
    "print(\"Given Specified Character:\\t\", K)\n",
    "  \n",
    "# printing output\n",
    "print(\"Afer replacing vowels with the specified character:\\t\\t\",\n",
    "      replace_vowel(input_str, K))"
   ]
  },
  {
   "cell_type": "code",
   "execution_count": null,
   "id": "filled-destiny",
   "metadata": {},
   "outputs": [],
   "source": []
  },
  {
   "cell_type": "code",
   "execution_count": null,
   "id": "governmental-potential",
   "metadata": {},
   "outputs": [],
   "source": []
  },
  {
   "cell_type": "markdown",
   "id": "endless-bankruptcy",
   "metadata": {},
   "source": [
    "## Question4. "
   ]
  },
  {
   "cell_type": "raw",
   "id": "concerned-meditation",
   "metadata": {},
   "source": [
    "Write a function that calculates the factorial of a number recursively.\n",
    "Examples\n",
    "factorial(5) ➞ 120\n",
    "\n",
    "factorial(3) ➞ 6\n",
    "\n",
    "factorial(1) ➞ 1\n",
    "\n",
    "factorial(0) ➞ 1\n"
   ]
  },
  {
   "cell_type": "code",
   "execution_count": 47,
   "id": "grand-plastic",
   "metadata": {},
   "outputs": [
    {
     "name": "stdout",
     "output_type": "stream",
     "text": [
      "Enter the number 5\n",
      "The factorial of 5 is 120\n"
     ]
    }
   ],
   "source": [
    "def factorial(n):\n",
    "   if n == 1:\n",
    "       return n\n",
    "   else:\n",
    "       return n*factorial(n-1)\n",
    "\n",
    "num =int(input(\"Enter the number \"))\n",
    "\n",
    "# check if the number is negative\n",
    "if num < 0:\n",
    "   print(\"Sorry, factorial does not exist for negative numbers\")\n",
    "elif num == 0:\n",
    "   print(\"The factorial of 0 is 1\")\n",
    "else:\n",
    "   print(\"The factorial of\", num, \"is\", factorial(num))"
   ]
  },
  {
   "cell_type": "code",
   "execution_count": null,
   "id": "collect-equality",
   "metadata": {},
   "outputs": [],
   "source": []
  },
  {
   "cell_type": "markdown",
   "id": "worthy-member",
   "metadata": {},
   "source": [
    "## Question 5\n"
   ]
  },
  {
   "cell_type": "raw",
   "id": "blessed-creativity",
   "metadata": {},
   "source": [
    "Hamming distance is the number of characters that differ between two strings.\n",
    "To illustrate:\n",
    "String1: \"abcbba\"\n",
    "String2: \"abcbda\"\n",
    "\n",
    "Hamming Distance: 1 - \"b\" vs. \"d\" is the only difference.\n",
    "Create a function that computes the hamming distance between two strings.\n",
    "Examples\n",
    "hamming_distance(\"abcde\", \"bcdef\") ➞ 5\n",
    "\n",
    "hamming_distance(\"abcde\", \"abcde\") ➞ 0\n",
    "\n",
    "hamming_distance(\"strong\", \"strung\") ➞ 1\n"
   ]
  },
  {
   "cell_type": "code",
   "execution_count": 49,
   "id": "outstanding-subject",
   "metadata": {},
   "outputs": [
    {
     "name": "stdout",
     "output_type": "stream",
     "text": [
      "Enter the str1 abcde\n",
      "Enter the str2bcdef\n",
      "5\n"
     ]
    }
   ],
   "source": [
    "def hammingDist(str1, str2):\n",
    "    i = 0\n",
    "    count = 0\n",
    " \n",
    "    while(i < len(str1)):\n",
    "        if(str1[i] != str2[i]):\n",
    "            count += 1\n",
    "        i += 1\n",
    "    return count\n",
    " \n",
    "# Driver code \n",
    "str1 = input(\"Enter the str1 \")\n",
    "str2 = input(\"Enter the str2\")\n",
    " \n",
    "# function call\n",
    "print(hammingDist(str1, str2))\n"
   ]
  },
  {
   "cell_type": "code",
   "execution_count": null,
   "id": "recreational-annual",
   "metadata": {},
   "outputs": [],
   "source": []
  }
 ],
 "metadata": {
  "kernelspec": {
   "display_name": "Python 3",
   "language": "python",
   "name": "python3"
  },
  "language_info": {
   "codemirror_mode": {
    "name": "ipython",
    "version": 3
   },
   "file_extension": ".py",
   "mimetype": "text/x-python",
   "name": "python",
   "nbconvert_exporter": "python",
   "pygments_lexer": "ipython3",
   "version": "3.9.1"
  }
 },
 "nbformat": 4,
 "nbformat_minor": 5
}
