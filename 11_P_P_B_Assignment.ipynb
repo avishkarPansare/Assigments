{
 "cells": [
  {
   "cell_type": "markdown",
   "id": "acknowledged-motel",
   "metadata": {},
   "source": [
    "1.\tWrite a Python program to find words which are greater than given length k?\n"
   ]
  },
  {
   "cell_type": "code",
   "execution_count": 9,
   "id": "direct-machine",
   "metadata": {},
   "outputs": [
    {
     "name": "stdout",
     "output_type": "stream",
     "text": [
      "Enter the k value :5\n"
     ]
    },
    {
     "data": {
      "text/plain": [
       "['Python', 'Program', 'string', 'contains', 'special', 'character?']"
      ]
     },
     "execution_count": 9,
     "metadata": {},
     "output_type": "execute_result"
    }
   ],
   "source": [
    "str1=\"\"\"7 Write a Python Program to check if a string contains any special character?\"\"\"\n",
    "newstr=str1.split(\" \")\n",
    "k=int(input(\"Enter the k value :\"))\n",
    "k_lst=[]\n",
    "for i in newstr:\n",
    "    if len(i) > k:\n",
    "        k_lst.append(i)\n",
    "\n",
    "k_lst"
   ]
  },
  {
   "cell_type": "code",
   "execution_count": null,
   "id": "favorite-lloyd",
   "metadata": {},
   "outputs": [],
   "source": []
  },
  {
   "cell_type": "markdown",
   "id": "operational-effect",
   "metadata": {},
   "source": [
    "2.\tWrite a Python program for removing i-th character from a string?\n"
   ]
  },
  {
   "cell_type": "code",
   "execution_count": 12,
   "id": "selected-production",
   "metadata": {},
   "outputs": [
    {
     "name": "stdout",
     "output_type": "stream",
     "text": [
      "The give string is : AVISHKAR\n",
      "Enter i-th value :5\n",
      "The give string is AVISHKAR\n",
      "The removing element is :K\n",
      "The new string is :AVISHAR\n"
     ]
    }
   ],
   "source": [
    "string=\"AVISHKAR\"\n",
    "print(\"The give string is :\",string)\n",
    "while True:\n",
    "    n=int(input(\"Enter i-th value :\"))\n",
    "    if n < len(string)-2:\n",
    "        break\n",
    "\n",
    "newstring=string[:n]+string[n+1:]\n",
    "\n",
    "print(\"The give string is {0}\\nThe removing element is :{1}\\nThe new string is :{2}\".format(string,string[n],newstring))"
   ]
  },
  {
   "cell_type": "code",
   "execution_count": null,
   "id": "medical-doctor",
   "metadata": {},
   "outputs": [],
   "source": []
  },
  {
   "cell_type": "markdown",
   "id": "mathematical-pierre",
   "metadata": {},
   "source": [
    "3.\tWrite a Python program to split and join a string?\n"
   ]
  },
  {
   "cell_type": "code",
   "execution_count": 15,
   "id": "greater-agreement",
   "metadata": {},
   "outputs": [
    {
     "name": "stdout",
     "output_type": "stream",
     "text": [
      "THe string before split is : \n",
      " 7 Write a Python Program to check if a string contains any special character?\n",
      "\n",
      "\n",
      "\n",
      "After spilting the string is :\n",
      " ['7', 'Write', 'a', 'Python', 'Program', 'to', 'check', 'if', 'a', 'string', 'contains', 'any', 'special', 'character?']\n",
      "\n",
      "\n",
      "\n",
      "After join opertion :\n",
      " 7 Write a Python Program to check if a string contains any special character?\n"
     ]
    }
   ],
   "source": [
    "\n",
    "\n",
    "str1=\"\"\"7 Write a Python Program to check if a string contains any special character?\"\"\"\n",
    "print(\"THe string before split is : \\n\",str1)\n",
    "print(\"\\n\\n\")\n",
    "newstr=str1.split(\" \")\n",
    "print(\"After spilting the string is :\\n\",newstr)\n",
    "print(\"\\n\\n\")\n",
    "string = ' '.join(newstr)\n",
    "print(\"After join opertion :\\n\",string)"
   ]
  },
  {
   "cell_type": "code",
   "execution_count": null,
   "id": "british-rings",
   "metadata": {},
   "outputs": [],
   "source": []
  },
  {
   "cell_type": "markdown",
   "id": "robust-latter",
   "metadata": {},
   "source": [
    "4.\tWrite a Python to check if a given string is binary string or not?\n"
   ]
  },
  {
   "cell_type": "code",
   "execution_count": 16,
   "id": "frozen-belfast",
   "metadata": {},
   "outputs": [
    {
     "name": "stdout",
     "output_type": "stream",
     "text": [
      "No\n"
     ]
    }
   ],
   "source": [
    "string=\"AVISHKAR\"\n",
    "p = set(string)\n",
    "\n",
    "s = {'0', '1'}\n",
    "  \n",
    "if s == p or p == {'0'} or p == {'1'}:\n",
    "        print(\"Yes\")\n",
    "else :\n",
    "        print(\"No\")"
   ]
  },
  {
   "cell_type": "code",
   "execution_count": 17,
   "id": "indonesian-terrain",
   "metadata": {},
   "outputs": [
    {
     "name": "stdout",
     "output_type": "stream",
     "text": [
      "Yes\n"
     ]
    }
   ],
   "source": [
    " \n",
    "    \n",
    "string=\"01010101010\"\n",
    "p = set(string)\n",
    "\n",
    "s = {'0', '1'}\n",
    "  \n",
    "if s == p or p == {'0'} or p == {'1'}:\n",
    "        print(\"Yes\")\n",
    "else :\n",
    "        print(\"No\")"
   ]
  },
  {
   "cell_type": "markdown",
   "id": "thirty-rochester",
   "metadata": {},
   "source": [
    "5.\tWrite a Python program to find uncommon words from two Strings?\n"
   ]
  },
  {
   "cell_type": "code",
   "execution_count": 23,
   "id": "recreational-soccer",
   "metadata": {},
   "outputs": [
    {
     "name": "stdout",
     "output_type": "stream",
     "text": [
      "A is :apple banana mango\n",
      "B is :banana fruits mango\n",
      " uncommon words :  apple fruits\n"
     ]
    }
   ],
   "source": [
    "a = \"apple banana mango\"\n",
    "b = \"banana fruits mango\"\n",
    "list_a = a.split()\n",
    "list_b = b.split()\n",
    "uc = ''\n",
    "for i in list_a:\n",
    "    if i not in list_b:\n",
    "        uc = uc+\" \"+i\n",
    "for j in list_b:\n",
    "    if j not in list_a:\n",
    "        uc = uc+\" \"+j\n",
    "print(\"A is :{0}\\nB is :{1}\".format(a,b))\n",
    "print(\" uncommon words :\",uc)"
   ]
  },
  {
   "cell_type": "code",
   "execution_count": null,
   "id": "exposed-american",
   "metadata": {},
   "outputs": [],
   "source": []
  },
  {
   "cell_type": "code",
   "execution_count": null,
   "id": "checked-labor",
   "metadata": {},
   "outputs": [],
   "source": []
  },
  {
   "cell_type": "markdown",
   "id": "integral-whale",
   "metadata": {},
   "source": [
    "6.\tWrite a Python to find all duplicate characters in string?\n"
   ]
  },
  {
   "cell_type": "code",
   "execution_count": 25,
   "id": "based-component",
   "metadata": {},
   "outputs": [
    {
     "name": "stdout",
     "output_type": "stream",
     "text": [
      " uncommon words :  a   b a n a n a   m a n g o\n"
     ]
    }
   ],
   "source": [
    "a = \"apple banana mango\"\n",
    "b = \"banana fruits mango\"\n",
    "\n",
    "uc = ''\n",
    "for i in a:\n",
    "    if i in b:\n",
    "        uc = uc+\" \"+i\n",
    "print(\" uncommon words :\",uc)"
   ]
  },
  {
   "cell_type": "code",
   "execution_count": 32,
   "id": "amber-basin",
   "metadata": {},
   "outputs": [
    {
     "name": "stdout",
     "output_type": "stream",
     "text": [
      "['A', 'S', 'R']\n"
     ]
    }
   ],
   "source": [
    "\n",
    "string = \"AVISHKAR_PANSARE\"\n",
    "\n",
    "duplicates = []\n",
    "for char in string:\n",
    "    if string.count(char) > 1:\n",
    "        if char not in duplicates:\n",
    "               duplicates.append(char)\n",
    "print(duplicates)"
   ]
  },
  {
   "cell_type": "markdown",
   "id": "linear-phrase",
   "metadata": {},
   "source": [
    "7.\tWrite a Python Program to check if a string contains any special character?\n"
   ]
  },
  {
   "cell_type": "code",
   "execution_count": 34,
   "id": "dangerous-invasion",
   "metadata": {},
   "outputs": [
    {
     "name": "stdout",
     "output_type": "stream",
     "text": [
      "The string contains special character : @\n"
     ]
    }
   ],
   "source": [
    "punctuations = '''!()-[]{};:'\"\\,<>./?@#$%^&*_~'''\n",
    "flag=0\n",
    "string=\"AVISHKAR@PANSARE\"\n",
    "for char in string:\n",
    "    if char in punctuations:\n",
    "        flag=1\n",
    "    if flag!=0:\n",
    "        print(\"The string contains special character :\",char)\n",
    "        break"
   ]
  },
  {
   "cell_type": "code",
   "execution_count": null,
   "id": "through-shift",
   "metadata": {},
   "outputs": [],
   "source": []
  },
  {
   "cell_type": "code",
   "execution_count": null,
   "id": "removed-policy",
   "metadata": {},
   "outputs": [],
   "source": []
  }
 ],
 "metadata": {
  "kernelspec": {
   "display_name": "Python 3",
   "language": "python",
   "name": "python3"
  },
  "language_info": {
   "codemirror_mode": {
    "name": "ipython",
    "version": 3
   },
   "file_extension": ".py",
   "mimetype": "text/x-python",
   "name": "python",
   "nbconvert_exporter": "python",
   "pygments_lexer": "ipython3",
   "version": "3.9.1"
  }
 },
 "nbformat": 4,
 "nbformat_minor": 5
}
