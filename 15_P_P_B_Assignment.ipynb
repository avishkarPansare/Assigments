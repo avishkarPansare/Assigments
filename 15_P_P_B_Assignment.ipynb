{
 "cells": [
  {
   "cell_type": "markdown",
   "id": "operating-independence",
   "metadata": {},
   "source": [
    "## Question 1:"
   ]
  },
  {
   "cell_type": "raw",
   "id": "copyrighted-colombia",
   "metadata": {},
   "source": [
    "Please write a program using generator to print the numbers which can be divisible by 5 and 7 between 0 and n in comma separated form while n is input by console.\n",
    "\n",
    "\n",
    "Example:\n",
    "If the following n is given as input to the program:\n",
    "100\n",
    "\n",
    "Then, the output of the program should be:\n",
    "0,35,70\n"
   ]
  },
  {
   "cell_type": "code",
   "execution_count": 8,
   "id": "wooden-incidence",
   "metadata": {},
   "outputs": [
    {
     "name": "stdout",
     "output_type": "stream",
     "text": [
      "Enter the range of number 100\n",
      "0,\t35,\t70,\t"
     ]
    }
   ],
   "source": [
    "def simpleGen(n):\n",
    "    for i in range(n+1):\n",
    "        if i%5==0 and i%7==0 :\n",
    "            yield i\n",
    "        \n",
    "n=int(input(\"Enter the range of number \"))\n",
    "for value in simpleGen(n): \n",
    "    print(value,end=\",\\t\")"
   ]
  },
  {
   "cell_type": "code",
   "execution_count": null,
   "id": "joined-indian",
   "metadata": {},
   "outputs": [],
   "source": []
  },
  {
   "cell_type": "markdown",
   "id": "relative-invite",
   "metadata": {},
   "source": [
    "## Question 2:"
   ]
  },
  {
   "cell_type": "raw",
   "id": "stretch-greek",
   "metadata": {},
   "source": [
    "Please write a program using generator to print the even numbers between 0 and n in comma separated form while n is input by console.\n",
    "\n",
    "\n",
    "Example:\n",
    "If the following n is given as input to the program:\n",
    "10\n",
    "Then, the output of the program should be:\n",
    "0,2,4,6,8,10\n"
   ]
  },
  {
   "cell_type": "code",
   "execution_count": 7,
   "id": "level-workstation",
   "metadata": {},
   "outputs": [
    {
     "name": "stdout",
     "output_type": "stream",
     "text": [
      "Enter the range of number 10\n",
      "0,\t2,\t4,\t6,\t8,\t10,\t"
     ]
    }
   ],
   "source": [
    "def simpleGen(n):\n",
    "    for i in range(n+1):\n",
    "        if i%2==0  :\n",
    "            yield i\n",
    "        \n",
    "n=int(input(\"Enter the range of number \"))\n",
    "for value in simpleGen(n): \n",
    "    print(value,end=\",\\t\")"
   ]
  },
  {
   "cell_type": "code",
   "execution_count": null,
   "id": "wooden-freeware",
   "metadata": {},
   "outputs": [],
   "source": []
  },
  {
   "cell_type": "markdown",
   "id": "choice-glenn",
   "metadata": {},
   "source": [
    "## Question 3:"
   ]
  },
  {
   "cell_type": "raw",
   "id": "protected-baseline",
   "metadata": {},
   "source": [
    "The Fibonacci Sequence is computed based on the following formula:\n",
    "f(n)=0 if n=0\n",
    "f(n)=1 if n=1\n",
    "f(n)=f(n-1)+f(n-2) if n>1\n",
    "\n",
    "\n",
    "Please write a program using list comprehension to print the Fibonacci Sequence in comma separated form with a given n input by console.\n",
    "\n",
    "\n",
    "Example:\n",
    "If the following n is given as input to the program:\n",
    "7\n",
    "\n",
    "Then, the output of the program should be:\n",
    "0,1,1,2,3,5,8,13\n",
    "\n"
   ]
  },
  {
   "cell_type": "code",
   "execution_count": 10,
   "id": "final-czech",
   "metadata": {},
   "outputs": [
    {
     "name": "stdout",
     "output_type": "stream",
     "text": [
      "Enter the range of number 7\n",
      "0\n",
      "1\n",
      "1\n",
      "2\n",
      "3\n",
      "5\n"
     ]
    }
   ],
   "source": [
    "def fib(limit):\n",
    "    a, b = 0, 1\n",
    "  \n",
    "    # One by one yield next Fibonacci Number\n",
    "    while a < limit:\n",
    "        yield a\n",
    "        a, b = b, a + b\n",
    "  \n",
    "\n",
    "n=int(input(\"Enter the range of number \"))\n",
    "for i in fib(n): \n",
    "    print(i)"
   ]
  },
  {
   "cell_type": "code",
   "execution_count": 13,
   "id": "excited-oriental",
   "metadata": {},
   "outputs": [
    {
     "name": "stdout",
     "output_type": "stream",
     "text": [
      "Enter the range of number 7\n",
      "13\n"
     ]
    }
   ],
   "source": [
    "def Fibonacci(n):\n",
    "    if n<0:\n",
    "        print(\"Incorrect input\")\n",
    "    elif n==0:\n",
    "        return 0\n",
    "    elif n==1:\n",
    "        return 1\n",
    "    else:\n",
    "        return Fibonacci(n-1)+Fibonacci(n-2)\n",
    " \n",
    "\n",
    "n=int(input(\"Enter the range of number \"))\n",
    "print(Fibonacci(n))\n",
    " \n",
    "#This code is contributed by Saket Modi"
   ]
  },
  {
   "cell_type": "code",
   "execution_count": null,
   "id": "beautiful-fever",
   "metadata": {},
   "outputs": [],
   "source": []
  },
  {
   "cell_type": "markdown",
   "id": "patent-sustainability",
   "metadata": {},
   "source": [
    "## Question 4:"
   ]
  },
  {
   "cell_type": "raw",
   "id": "considerable-constitution",
   "metadata": {},
   "source": [
    "Assuming that we have some email addresses in the \"username@companyname.com\" format, please write program to print the user name of a given email address. Both user names and company names are composed of letters only.\n",
    "\n",
    "\n",
    "Example:\n",
    "If the following email address is given as input to the program:\n",
    "john@google.com\n",
    "Then, the output of the program should be:\n",
    "john\n"
   ]
  },
  {
   "cell_type": "code",
   "execution_count": 14,
   "id": "dying-individual",
   "metadata": {},
   "outputs": [
    {
     "name": "stdout",
     "output_type": "stream",
     "text": [
      "Enter your emailIdjohn@google.com\n",
      "User : john\n"
     ]
    }
   ],
   "source": [
    "\n",
    "x=input(\"Enter your emailId\")\n",
    "user=x.split(\"@\")\n",
    "print(\"User :\",user[0])"
   ]
  },
  {
   "cell_type": "code",
   "execution_count": null,
   "id": "expensive-empire",
   "metadata": {},
   "outputs": [],
   "source": []
  },
  {
   "cell_type": "markdown",
   "id": "orange-outline",
   "metadata": {},
   "source": [
    "## Question 5:\n"
   ]
  },
  {
   "cell_type": "markdown",
   "id": "respiratory-consultation",
   "metadata": {},
   "source": [
    "Define a class named Shape and its subclass Square. The Square class has an init function which takes a length as argument. Both classes have a area function which can print the area of the shape where Shape's area is 0 by default.\n"
   ]
  },
  {
   "cell_type": "code",
   "execution_count": 18,
   "id": "waiting-journalist",
   "metadata": {},
   "outputs": [
    {
     "name": "stdout",
     "output_type": "stream",
     "text": [
      "Call by object name : \t 25\n",
      "Call by class name :\t 0\n"
     ]
    }
   ],
   "source": [
    "class Shape():\n",
    "    def __init__(self):\n",
    "        pass\n",
    "\n",
    "    def area(self):\n",
    "        return 0\n",
    "\n",
    "class Square(Shape):\n",
    "    def __init__(self,length = 0):\n",
    "        Shape.__init__(self)\n",
    "        self.length = length\n",
    "\n",
    "    def area(self):\n",
    "        return self.length*self.length\n",
    "\n",
    "Asqr = Square(5)\n",
    "print(\"Call by object name : \\t\",Asqr.area())      # prints 25 as given argument\n",
    "\n",
    "print(\"Call by class name :\\t\",Square().area())"
   ]
  },
  {
   "cell_type": "code",
   "execution_count": null,
   "id": "threaded-scratch",
   "metadata": {},
   "outputs": [],
   "source": []
  }
 ],
 "metadata": {
  "kernelspec": {
   "display_name": "Python 3",
   "language": "python",
   "name": "python3"
  },
  "language_info": {
   "codemirror_mode": {
    "name": "ipython",
    "version": 3
   },
   "file_extension": ".py",
   "mimetype": "text/x-python",
   "name": "python",
   "nbconvert_exporter": "python",
   "pygments_lexer": "ipython3",
   "version": "3.9.1"
  }
 },
 "nbformat": 4,
 "nbformat_minor": 5
}
