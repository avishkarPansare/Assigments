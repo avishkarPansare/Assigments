{
 "cells": [
  {
   "cell_type": "markdown",
   "id": "reliable-response",
   "metadata": {},
   "source": [
    "## Question 1"
   ]
  },
  {
   "cell_type": "raw",
   "id": "romantic-romania",
   "metadata": {},
   "source": [
    "\n",
    "Create a function that takes a list of non-negative integers and strings and return a new list without the strings.\n",
    "Examples\n",
    "filter_list([1, 2, \"a\", \"b\"]) ➞ [1, 2]\n",
    "\n",
    "filter_list([1, \"a\", \"b\", 0, 15]) ➞ [1, 0, 15]\n",
    "\n",
    "filter_list([1, 2, \"aasf\", \"1\", \"123\", 123]) ➞ [1, 2, 123]\n",
    "\n"
   ]
  },
  {
   "cell_type": "code",
   "execution_count": 3,
   "id": "adopted-leonard",
   "metadata": {},
   "outputs": [
    {
     "name": "stdout",
     "output_type": "stream",
     "text": [
      "The give list is :[1, 2, 'a', 'b']\n",
      "The output list [1, 2]\n",
      "\n",
      "\n",
      "\n",
      "The give list is :[1, 'a', 'b', 0, 15]\n",
      "The output list [1, 0, 15]\n",
      "\n",
      "\n",
      "\n"
     ]
    }
   ],
   "source": [
    "def filter_list(lst):\n",
    "    lst1=[]\n",
    "    for a in lst:\n",
    "        b=str(a)\n",
    "        if b.isdigit() == True:\n",
    "            lst1.append(a)\n",
    "    return lst1\n",
    "\n",
    "l1=[1, 2, \"a\", \"b\"]\n",
    "print(\"The give list is :{0}\\nThe output list {1}\".format(l1,filter_list(l1)))\n",
    "print(\"\\n\\n\")\n",
    "\n",
    "l2=[1, \"a\", \"b\", 0, 15]\n",
    "print(\"The give list is :{0}\\nThe output list {1}\".format(l2,filter_list(l2)))\n",
    "print(\"\\n\\n\")\n"
   ]
  },
  {
   "cell_type": "code",
   "execution_count": null,
   "id": "universal-accuracy",
   "metadata": {},
   "outputs": [],
   "source": []
  },
  {
   "cell_type": "markdown",
   "id": "funky-proposition",
   "metadata": {},
   "source": [
    "## Question 2"
   ]
  },
  {
   "cell_type": "raw",
   "id": "complex-documentation",
   "metadata": {},
   "source": [
    "\n",
    "The \"Reverser\" takes a string as input and returns that string in reverse order, with the opposite case.\n",
    "Examples\n",
    "reverse(\"Hello World\") ➞ \"DLROw OLLEh\"\n",
    "\n",
    "reverse(\"ReVeRsE\") ➞ \"eSrEvEr\"\n",
    "\n",
    "reverse(\"Radar\") ➞ \"RADAr\"\n"
   ]
  },
  {
   "cell_type": "code",
   "execution_count": 13,
   "id": "precise-handling",
   "metadata": {},
   "outputs": [
    {
     "name": "stdout",
     "output_type": "stream",
     "text": [
      "The give string : Hello World\n",
      "he ouput sting is : DLROw OLLEh\n",
      "\n",
      "\n",
      "\n",
      "The give string : ReVeRsE\n",
      "he ouput sting is : eSrEvEr\n",
      "\n",
      "\n",
      "\n",
      "The give string : Radar\n",
      "he ouput sting is : RADAr\n",
      "\n",
      "\n",
      "\n"
     ]
    }
   ],
   "source": [
    "def Reverse(string1):\n",
    "    n=len(string1)\n",
    "    n=n-1\n",
    "    s=''\n",
    "    while n>=0:\n",
    "        if string1[n].isupper()==True:\n",
    "            s+=string1[n].lower()\n",
    "        elif string1[n].islower()==True:\n",
    "            s+=string1[n].upper()\n",
    "        else :\n",
    "            s+= ' '\n",
    "        n=n-1\n",
    "    return s\n",
    "\n",
    "s=\"Hello World\"\n",
    "print(\"The give string : {0}\\nhe ouput sting is : {1}\".format(s,Reverse(s)))\n",
    "print(\"\\n\\n\")\n",
    "s=\"ReVeRsE\"\n",
    "print(\"The give string : {0}\\nhe ouput sting is : {1}\".format(s,Reverse(s)))\n",
    "print(\"\\n\\n\")\n",
    "s=\"Radar\"\n",
    "print(\"The give string : {0}\\nhe ouput sting is : {1}\".format(s,Reverse(s)))\n",
    "print(\"\\n\\n\")"
   ]
  },
  {
   "cell_type": "code",
   "execution_count": null,
   "id": "tender-advertising",
   "metadata": {},
   "outputs": [],
   "source": []
  },
  {
   "cell_type": "markdown",
   "id": "demanding-feelings",
   "metadata": {},
   "source": [
    "## Question 3"
   ]
  },
  {
   "cell_type": "raw",
   "id": "closed-compilation",
   "metadata": {},
   "source": [
    "\n",
    "You can assign variables from lists like this:\n",
    "lst = [1, 2, 3, 4, 5, 6]\n",
    "first = lst[0]\n",
    "middle = lst[1:-1]\n",
    "last = lst[-1]\n",
    "\n",
    "print(first) ➞ outputs 1\n",
    "print(middle) ➞ outputs [2, 3, 4, 5]\n",
    "print(last) ➞ outputs 6\n",
    "With Python 3, you can assign variables from lists in a much more succinct way. Create variables first, middle and last from the given list using destructuring assignment (check the Resources tab for some examples), where:\n",
    "first  ➞ 1\n",
    "\n",
    "middle ➞ [2, 3, 4, 5]\n",
    "\n",
    "last ➞ 6\n",
    "Your task is to unpack the list writeyourcodehere into three variables, being first, middle, and last, with middle being everything in between the first and last element. Then print all three variables.\n"
   ]
  },
  {
   "cell_type": "code",
   "execution_count": 15,
   "id": "built-agenda",
   "metadata": {},
   "outputs": [
    {
     "name": "stdout",
     "output_type": "stream",
     "text": [
      "frist : 1\n",
      "Last :6\n",
      "Middle : [2, 3, 4, 5]\n"
     ]
    }
   ],
   "source": [
    "def ThreeEle(lst):\n",
    "    f=lst[0]\n",
    "    l=lst[-1]\n",
    "    m=lst[1:-1]\n",
    "    print(\"frist : {0}\\nLast :{1}\\nMiddle : {2}\".format(f,l,m))\n",
    "\n",
    "lst = [1, 2, 3, 4, 5, 6]\n",
    "ThreeEle(lst)"
   ]
  },
  {
   "cell_type": "code",
   "execution_count": null,
   "id": "derived-lebanon",
   "metadata": {},
   "outputs": [],
   "source": []
  },
  {
   "cell_type": "markdown",
   "id": "magnetic-traveler",
   "metadata": {},
   "source": [
    "## Question 4\n"
   ]
  },
  {
   "cell_type": "raw",
   "id": "sexual-thunder",
   "metadata": {},
   "source": [
    "Write a function that calculates the factorial of a number recursively.\n",
    "Examples\n",
    "factorial(5) ➞ 120\n",
    "\n",
    "factorial(3) ➞ 6\n",
    "\n",
    "factorial(1) ➞ 1\n",
    "\n",
    "factorial(0) ➞ 1\n"
   ]
  },
  {
   "cell_type": "code",
   "execution_count": 16,
   "id": "primary-highland",
   "metadata": {},
   "outputs": [
    {
     "name": "stdout",
     "output_type": "stream",
     "text": [
      "Enter the number 5\n",
      "The factorial of 5 is 120\n"
     ]
    }
   ],
   "source": [
    "def factorial(n):\n",
    "   if n == 1:\n",
    "       return n\n",
    "   else:\n",
    "       return n*factorial(n-1)\n",
    "\n",
    "num =int(input(\"Enter the number \"))\n",
    "\n",
    "# check if the number is negative\n",
    "if num < 0:\n",
    "   print(\"Sorry, factorial does not exist for negative numbers\")\n",
    "elif num == 0:\n",
    "   print(\"The factorial of 0 is 1\")\n",
    "else:\n",
    "   print(\"The factorial of\", num, \"is\", factorial(num))"
   ]
  },
  {
   "cell_type": "code",
   "execution_count": null,
   "id": "finished-kinase",
   "metadata": {},
   "outputs": [],
   "source": []
  },
  {
   "cell_type": "markdown",
   "id": "ordered-queue",
   "metadata": {},
   "source": [
    "## Question 5\n"
   ]
  },
  {
   "cell_type": "raw",
   "id": "ethical-judges",
   "metadata": {},
   "source": [
    "Write a function that moves all elements of one type to the end of the list.\n",
    "Examples\n",
    "move_to_end([1, 3, 2, 4, 4, 1], 1) ➞ [3, 2, 4, 4, 1, 1]\n",
    "# Move all the 1s to the end of the array.\n",
    "\n",
    "move_to_end([7, 8, 9, 1, 2, 3, 4], 9) ➞ [7, 8, 1, 2, 3, 4, 9]\n",
    "\n",
    "move_to_end([\"a\", \"a\", \"a\", \"b\"], \"a\") ➞ [\"b\", \"a\", \"a\", \"a\"]\n",
    "\n"
   ]
  },
  {
   "cell_type": "code",
   "execution_count": 29,
   "id": "unusual-wildlife",
   "metadata": {},
   "outputs": [
    {
     "data": {
      "text/plain": [
       "['1', '2', '3', '2', '3', '2']"
      ]
     },
     "execution_count": 29,
     "metadata": {},
     "output_type": "execute_result"
    }
   ],
   "source": [
    "lst=['1','2','3','2','3','2']\n",
    "\n",
    "lst"
   ]
  },
  {
   "cell_type": "code",
   "execution_count": 30,
   "id": "athletic-emphasis",
   "metadata": {},
   "outputs": [
    {
     "name": "stdout",
     "output_type": "stream",
     "text": [
      "None\n"
     ]
    }
   ],
   "source": [
    "print(lst.remove('2'))"
   ]
  },
  {
   "cell_type": "code",
   "execution_count": 31,
   "id": "dominican-rider",
   "metadata": {},
   "outputs": [
    {
     "data": {
      "text/plain": [
       "['1', '3', '2', '3', '2']"
      ]
     },
     "execution_count": 31,
     "metadata": {},
     "output_type": "execute_result"
    }
   ],
   "source": [
    "lst"
   ]
  },
  {
   "cell_type": "code",
   "execution_count": 32,
   "id": "enabling-butterfly",
   "metadata": {},
   "outputs": [
    {
     "name": "stdout",
     "output_type": "stream",
     "text": [
      "The original list is : ['a', 'a', 'a', 'b']\n",
      "The modified element moved list is : ['b', 'a', 'a', 'a']\n"
     ]
    }
   ],
   "source": [
    "test_list = [\"a\", \"a\", \"a\", \"b\"]\n",
    "  \n",
    "# printing original list \n",
    "print (\"The original list is : \" + str(test_list))\n",
    "  \n",
    "# using sort() + key = (__eq__)\n",
    "# moving element to end \n",
    "test_list.sort(key = 'a'.__eq__)\n",
    "  \n",
    "# printing result\n",
    "print (\"The modified element moved list is : \" + str(test_list))"
   ]
  },
  {
   "cell_type": "code",
   "execution_count": 38,
   "id": "permanent-broadcast",
   "metadata": {},
   "outputs": [
    {
     "name": "stdout",
     "output_type": "stream",
     "text": [
      "Before :  ['a', 'a', 'a', 'b']\n",
      "After : ['b', 'a', 'a', 'a']\n",
      "\n",
      "\n",
      "\n",
      "Before :  [7, 8, 9, 1, 2, 3, 4]\n",
      "After : [7, 8, 1, 2, 3, 4, 9]\n",
      "\n",
      "\n",
      "\n",
      "Before :  [1, 3, 2, 4, 4, 1]\n",
      "After : [3, 2, 4, 4, 1, 1]\n",
      "\n",
      "\n",
      "\n"
     ]
    }
   ],
   "source": [
    "def move_to_end(lst,key):\n",
    "    print('Before : ',lst)\n",
    "    lst.sort(key = key.__eq__)\n",
    "    print('After :',lst)\n",
    "    print(\"\\n\\n\")\n",
    "\n",
    "\n",
    "test_list = [\"a\", \"a\", \"a\", \"b\"]\n",
    "move_to_end(test_list,'a')\n",
    "\n",
    "test_list =[7, 8, 9, 1, 2, 3, 4]\n",
    "move_to_end(test_list, 9)\n",
    "\n",
    "test_list = [1, 3, 2, 4, 4, 1]\n",
    "move_to_end(test_list,1)\n"
   ]
  },
  {
   "cell_type": "code",
   "execution_count": null,
   "id": "systematic-float",
   "metadata": {},
   "outputs": [],
   "source": []
  }
 ],
 "metadata": {
  "kernelspec": {
   "display_name": "Python 3",
   "language": "python",
   "name": "python3"
  },
  "language_info": {
   "codemirror_mode": {
    "name": "ipython",
    "version": 3
   },
   "file_extension": ".py",
   "mimetype": "text/x-python",
   "name": "python",
   "nbconvert_exporter": "python",
   "pygments_lexer": "ipython3",
   "version": "3.9.1"
  }
 },
 "nbformat": 4,
 "nbformat_minor": 5
}
