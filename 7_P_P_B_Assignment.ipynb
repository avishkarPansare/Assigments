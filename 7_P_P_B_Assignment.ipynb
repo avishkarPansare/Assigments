{
 "cells": [
  {
   "cell_type": "markdown",
   "id": "signal-roberts",
   "metadata": {},
   "source": [
    "1.\tWrite a Python Program to find sum of array?\n"
   ]
  },
  {
   "cell_type": "code",
   "execution_count": 7,
   "id": "sudden-gardening",
   "metadata": {},
   "outputs": [
    {
     "name": "stdout",
     "output_type": "stream",
     "text": [
      "Enter the n value4\n",
      "Enter the number :11\n",
      "Enter the number :77\n",
      "Enter the number :2\n",
      "Enter the number :89\n",
      "THe sum is : 179\n"
     ]
    }
   ],
   "source": [
    "l=[]\n",
    "n=int(input(\"Enter the n value\"))\n",
    "for i in range (n):\n",
    "    num=int(input(\"Enter the number :\"))\n",
    "    l.append(num)\n",
    "\n",
    "sum=0\n",
    "for i in range (0,len(l)):\n",
    "    sum=sum+l[i]\n",
    "\n",
    "print(\"THe sum is :\",sum)"
   ]
  },
  {
   "cell_type": "code",
   "execution_count": null,
   "id": "recent-excitement",
   "metadata": {},
   "outputs": [],
   "source": []
  },
  {
   "cell_type": "markdown",
   "id": "collective-sudan",
   "metadata": {},
   "source": [
    "2.\tWrite a Python Program to find largest element in an array?"
   ]
  },
  {
   "cell_type": "code",
   "execution_count": 8,
   "id": "official-boutique",
   "metadata": {},
   "outputs": [
    {
     "name": "stdout",
     "output_type": "stream",
     "text": [
      "Enter the n value4\n",
      "Enter the number :98\n",
      "Enter the number :43\n",
      "Enter the number :66\n",
      "Enter the number :771\n",
      "The given array is [98, 43, 66, 771] \n",
      " The largest element is array is 771\n"
     ]
    }
   ],
   "source": [
    "l=[]\n",
    "n=int(input(\"Enter the n value\"))\n",
    "for i in range (n):\n",
    "    num=int(input(\"Enter the number :\"))\n",
    "    l.append(num)\n",
    "    \n",
    "\n",
    "max=0\n",
    "for i in range (0,len(l)):\n",
    "    if max < l[i]:\n",
    "        max=l[i]\n",
    "print(\"The given array is {0} \\n The largest element is array is {1}\".format(l,max))"
   ]
  },
  {
   "cell_type": "code",
   "execution_count": null,
   "id": "surrounded-theater",
   "metadata": {},
   "outputs": [],
   "source": []
  },
  {
   "cell_type": "markdown",
   "id": "technical-recycling",
   "metadata": {},
   "source": [
    "\n",
    "3.\tWrite a Python Program for array rotation?"
   ]
  },
  {
   "cell_type": "code",
   "execution_count": 10,
   "id": "environmental-potato",
   "metadata": {},
   "outputs": [
    {
     "name": "stdout",
     "output_type": "stream",
     "text": [
      "Enter the n value4\n",
      "Enter the number :1\n",
      "Enter the number :2\n",
      "Enter the number :3\n",
      "Enter the number :4\n",
      "[1, 2, 3, 4]\n",
      "Rotated list is\n",
      "[3, 4, 1, 2]\n"
     ]
    }
   ],
   "source": [
    "\n",
    "def rotateList(arr,d,n):\n",
    "    arr[:]=arr[d:n]+arr[0:d]   \n",
    "    return arr\n",
    "\n",
    "\n",
    "arr=[]\n",
    "n=int(input(\"Enter the n value\"))\n",
    "for i in range (n):\n",
    "    num=int(input(\"Enter the number :\"))\n",
    "    arr.append(num)\n",
    "    \n",
    "\n",
    "print(arr)\n",
    "print(\"Rotated list is\")\n",
    "print(rotateList(arr,len(arr)-(len(arr)-2),len(arr)))\n",
    "\n",
    "\n"
   ]
  },
  {
   "cell_type": "code",
   "execution_count": null,
   "id": "architectural-richards",
   "metadata": {},
   "outputs": [],
   "source": []
  },
  {
   "cell_type": "markdown",
   "id": "reasonable-rwanda",
   "metadata": {},
   "source": [
    "\n",
    "4.\tWrite a Python Program to Split the array and add the first part to the end?"
   ]
  },
  {
   "cell_type": "code",
   "execution_count": 12,
   "id": "collected-initial",
   "metadata": {},
   "outputs": [
    {
     "name": "stdout",
     "output_type": "stream",
     "text": [
      "Enter the n value4\n",
      "Enter the number :1\n",
      "Enter the number :2\n",
      "Enter the number :3\n",
      "Enter the number :4\n",
      "Enter the split number 5\n",
      "Enter the split number 4\n",
      "Enter the split number 2\n",
      "[1, 2, 3, 4]\n",
      "Rotated list is\n",
      "[3, 4, 1, 2]\n"
     ]
    }
   ],
   "source": [
    "\n",
    "def rotateList(arr,d,n):\n",
    "    arr[:]=arr[d:n]+arr[0:d]   \n",
    "    return arr\n",
    "\n",
    "\n",
    "arr=[]\n",
    "n=int(input(\"Enter the n value\"))\n",
    "for i in range (n):\n",
    "    num=int(input(\"Enter the number :\"))\n",
    "    arr.append(num)\n",
    "    \n",
    "while True:\n",
    "    split_num=int(input(\"Enter the split number \"))\n",
    "    if split_num < n:\n",
    "        break\n",
    "\n",
    "print(arr)\n",
    "print(\"Rotated list is\")\n",
    "print(rotateList(arr,len(arr)-(len(arr)-split_num),len(arr)))"
   ]
  },
  {
   "cell_type": "code",
   "execution_count": null,
   "id": "signed-david",
   "metadata": {},
   "outputs": [],
   "source": []
  },
  {
   "cell_type": "markdown",
   "id": "representative-lotus",
   "metadata": {},
   "source": [
    "\n",
    "5.\tWrite a Python Program to check if given array is Monotonic?\n"
   ]
  },
  {
   "cell_type": "code",
   "execution_count": 15,
   "id": "crucial-williams",
   "metadata": {},
   "outputs": [
    {
     "name": "stdout",
     "output_type": "stream",
     "text": [
      "Enter the n value5\n",
      "Enter the number :1\n",
      "Enter the number :2\n",
      "Enter the number :3\n",
      "Enter the number :4\n",
      "Enter the number :6\n",
      "The Give array is [1, 2, 3, 4, 6] \n",
      " This array is Monotonic : True \n"
     ]
    }
   ],
   "source": [
    "\"\"\"\n",
    "\n",
    "Given an array A containing n integers. The task is to check whether the array is Monotonic or not. An array is monotonic if it is either monotone increasing or monotone decreasing.\n",
    "An array A is monotone increasing if for all i <= j, A[i] <= A[j]. An array A is monotone decreasing if for all i <= j, A[i] >= A[j].\n",
    "Return “True” if the given array A is monotonic else return “False” (without quotes).\n",
    "\n",
    "\"\"\"\n",
    "\n",
    "\n",
    "def isMonotonic(A):\n",
    "  \n",
    "    return (all(A[i] <= A[i + 1] for i in range(len(A) - 1)) or\n",
    "            all(A[i] >= A[i + 1] for i in range(len(A) - 1)))\n",
    "  \n",
    "arr=[]\n",
    "n=int(input(\"Enter the n value\"))\n",
    "for i in range (n):\n",
    "    num=int(input(\"Enter the number :\"))\n",
    "    arr.append(num)\n",
    "  \n",
    "\n",
    "print(\"The Give array is {0} \\n This array is Monotonic : {1} \".format(arr,isMonotonic(arr)))"
   ]
  },
  {
   "cell_type": "code",
   "execution_count": null,
   "id": "disciplinary-symposium",
   "metadata": {},
   "outputs": [],
   "source": []
  },
  {
   "cell_type": "code",
   "execution_count": null,
   "id": "meaningful-february",
   "metadata": {},
   "outputs": [],
   "source": []
  }
 ],
 "metadata": {
  "kernelspec": {
   "display_name": "Python 3",
   "language": "python",
   "name": "python3"
  },
  "language_info": {
   "codemirror_mode": {
    "name": "ipython",
    "version": 3
   },
   "file_extension": ".py",
   "mimetype": "text/x-python",
   "name": "python",
   "nbconvert_exporter": "python",
   "pygments_lexer": "ipython3",
   "version": "3.9.1"
  }
 },
 "nbformat": 4,
 "nbformat_minor": 5
}
