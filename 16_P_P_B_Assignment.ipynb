{
 "cells": [
  {
   "cell_type": "markdown",
   "id": "opposed-festival",
   "metadata": {},
   "source": [
    "## Question1"
   ]
  },
  {
   "cell_type": "raw",
   "id": "threaded-burke",
   "metadata": {},
   "source": [
    " Write a function that stutters a word as if someone is struggling to read it. The first two letters are repeated twice with an ellipsis ... and space after each, and then the word is pronounced with a question mark ?.\n",
    "Examples\n",
    "stutter(\"incredible\") ➞ \"in... in... incredible?\"\n",
    "\n",
    "stutter(\"enthusiastic\") ➞ \"en... en... enthusiastic?\"\n",
    "\n",
    "stutter(\"outstanding\") ➞ \"ou... ou... outstanding?\"\n",
    "\n",
    "Hint :- Assume all input is in lower case and at least two characters long.\n"
   ]
  },
  {
   "cell_type": "code",
   "execution_count": 9,
   "id": "renewable-vacation",
   "metadata": {},
   "outputs": [],
   "source": [
    "#  name=\"avishkar\"\n",
    "# na=name[0:2]+'...'\n",
    "# print(na)\n",
    "# lst=[na,na,name]\n",
    "# print(lst) \"\"\""
   ]
  },
  {
   "cell_type": "code",
   "execution_count": 11,
   "id": "metric-badge",
   "metadata": {},
   "outputs": [
    {
     "name": "stdout",
     "output_type": "stream",
     "text": [
      "Enter your stringoutstanding\n",
      "==> \n",
      " ou...ou...outstanding?\n"
     ]
    }
   ],
   "source": [
    "def stutter(string1):\n",
    "    string2=string1+'?'\n",
    "    start=string2[0:2]\n",
    "    lst=[start,start,string2]\n",
    "    return lst\n",
    "\n",
    "string=input(\"Enter your string\")\n",
    "output=stutter(string)\n",
    "print(\"==> \\n\",\"...\".join(output))"
   ]
  },
  {
   "cell_type": "code",
   "execution_count": null,
   "id": "vertical-minimum",
   "metadata": {},
   "outputs": [],
   "source": []
  },
  {
   "cell_type": "markdown",
   "id": "celtic-skiing",
   "metadata": {},
   "source": [
    "## Question 2"
   ]
  },
  {
   "cell_type": "raw",
   "id": "complicated-workplace",
   "metadata": {},
   "source": [
    "\n",
    "Create a function that takes an angle in radians and returns the corresponding angle in degrees rounded to one decimal place.\n",
    "Examples\n",
    "radians_to_degrees(1) ➞ 57.3\n",
    "\n",
    "radians_to_degrees(20) ➞ 1145.9\n",
    "\n",
    "radians_to_degrees(50) ➞ 2864.8\n"
   ]
  },
  {
   "cell_type": "code",
   "execution_count": 13,
   "id": "postal-contractor",
   "metadata": {},
   "outputs": [
    {
     "name": "stdout",
     "output_type": "stream",
     "text": [
      "Enter  number20\n",
      "20  is in radians and its convert into degrees  1146.496815286624\n"
     ]
    }
   ],
   "source": [
    "def radians_to_degrees(num):\n",
    "    ans=num*(180/3.14)\n",
    "    return ans\n",
    "num=int(input(\"Enter  number\"))\n",
    "print(num,\" is in radians and its convert into degrees \",radians_to_degrees(num))"
   ]
  },
  {
   "cell_type": "code",
   "execution_count": null,
   "id": "nasty-halifax",
   "metadata": {},
   "outputs": [],
   "source": []
  },
  {
   "cell_type": "markdown",
   "id": "coordinated-cleaners",
   "metadata": {},
   "source": [
    "## Question 3. "
   ]
  },
  {
   "cell_type": "raw",
   "id": "dramatic-sarah",
   "metadata": {},
   "source": [
    " In this challenge, establish if a given integer num is a Curzon number. If 1 plus 2 elevated to num is exactly divisible by 1 plus 2 multiplied by num, then num is a Curzon number.\n",
    "Given a non-negative integer num, implement a function that returns True if num is a Curzon number, or False otherwise.\n",
    "Examples\n",
    "is_curzon(5) ➞ True\n",
    "# 2 ** 5 + 1 = 33\n",
    "# 2 * 5 + 1 = 11\n",
    "# 33 is a multiple of 11\n",
    "\n",
    "is_curzon(10) ➞ False\n",
    "# 2 ** 10 + 1 = 1025\n",
    "# 2 * 10 + 1 = 21\n",
    "# 1025 is not a multiple of 21\n",
    "\n",
    "is_curzon(14) ➞ True\n",
    "# 2 ** 14 + 1 = 16385\n",
    "# 2 * 14 + 1 = 29\n",
    "# 16385 is a multiple of 29\n"
   ]
  },
  {
   "cell_type": "code",
   "execution_count": 14,
   "id": "outer-child",
   "metadata": {},
   "outputs": [
    {
     "data": {
      "text/plain": [
       "0"
      ]
     },
     "execution_count": 14,
     "metadata": {},
     "output_type": "execute_result"
    }
   ],
   "source": [
    "33%11"
   ]
  },
  {
   "cell_type": "code",
   "execution_count": 17,
   "id": "described-physiology",
   "metadata": {},
   "outputs": [
    {
     "name": "stdout",
     "output_type": "stream",
     "text": [
      "Enter  number10\n",
      "10  This number is Curzon number or Not ==> :\t False\n"
     ]
    }
   ],
   "source": [
    "def is_curzon(num):\n",
    "    a=2**num + 1\n",
    "    b=2* num + 1\n",
    "    if a%b==0:\n",
    "        return True\n",
    "    else:\n",
    "        return False\n",
    "\n",
    "num=int(input(\"Enter  number\"))\n",
    "print(num,\" This number is Curzon number or Not ==> :\\t\",is_curzon(num))"
   ]
  },
  {
   "cell_type": "code",
   "execution_count": null,
   "id": "cleared-manhattan",
   "metadata": {},
   "outputs": [],
   "source": []
  },
  {
   "cell_type": "markdown",
   "id": "broke-residence",
   "metadata": {},
   "source": [
    "## Question 4."
   ]
  },
  {
   "cell_type": "raw",
   "id": "artificial-builder",
   "metadata": {},
   "source": [
    "Given the side length x find the area of a hexagon.\n",
    " \n",
    "Examples\n",
    "area_of_hexagon(1) ➞ 2.6\n",
    "\n",
    "area_of_hexagon(2) ➞ 10.4\n",
    "\n",
    "area_of_hexagon(3) ➞ 23.4\n",
    "\n",
    "formula is ==> area=(3*sqrt(3)*num^2)/2"
   ]
  },
  {
   "cell_type": "code",
   "execution_count": 23,
   "id": "miniature-battle",
   "metadata": {},
   "outputs": [
    {
     "name": "stdout",
     "output_type": "stream",
     "text": [
      "Enter  number3\n",
      "side length of hexagon 3 \n",
      "The area of a hexagon. ==> :\t23.382685902179844\n"
     ]
    }
   ],
   "source": [
    "import math\n",
    "def area_of_hexagon(num):\n",
    "    area=(3*math.sqrt(3)*num**2)/2\n",
    "    return area\n",
    "num=int(input(\"Enter  number\"))\n",
    "print(\"side length of hexagon {0} \\nThe area of a hexagon. ==> :\\t{1}\".format(num,area_of_hexagon(num)))"
   ]
  },
  {
   "cell_type": "code",
   "execution_count": null,
   "id": "aerial-future",
   "metadata": {},
   "outputs": [],
   "source": []
  },
  {
   "cell_type": "markdown",
   "id": "exterior-certification",
   "metadata": {},
   "source": [
    "## Question 5"
   ]
  },
  {
   "cell_type": "raw",
   "id": "starting-cologne",
   "metadata": {},
   "source": [
    "Question 5. Create a function that returns a base-2 (binary) representation of a base-10 (decimal) string number. To convert is simple: ((2) means base-2 and (10) means base-10) 010101001(2) = 1 + 8 + 32 + 128.\n",
    "\n",
    "\n",
    "Going from right to left, the value of the most right bit is 1, now from that every bit to the left will be x2 the value, value of an 8 bit binary numbers are (256, 128, 64, 32, 16, 8, 4, 2, 1).\n",
    "\n",
    "\n",
    "Examples\n",
    "binary(1) ➞ \"1\"\n",
    "# 1*1 = 1\n",
    "\n",
    "binary(5) ➞ \"101\"\n",
    "# 1*1 + 1*4 = 5\n",
    "\n",
    "binary(10) ➞ \"1010\"\n",
    "# 1*2 + 1*8 = 10\n"
   ]
  },
  {
   "cell_type": "code",
   "execution_count": 25,
   "id": "freelance-shelter",
   "metadata": {},
   "outputs": [
    {
     "name": "stdout",
     "output_type": "stream",
     "text": [
      "Decimal equivalent of 1100 in base 2 is 12\n"
     ]
    }
   ],
   "source": [
    "def val(c):\n",
    "    if c >= '0' and c <= '9':\n",
    "        return ord(c) - ord('0')\n",
    "    else:\n",
    "        return ord(c) - ord('A') + 10;\n",
    " \n",
    "def toDeci(str,base):\n",
    "    llen = len(str)\n",
    "    power = 1 #Initialize power of base\n",
    "    num = 0     #Initialize result\n",
    " \n",
    "    for i in range(llen - 1, -1, -1):\n",
    "         \n",
    "        if val(str[i]) >= base:\n",
    "            print('Invalid Number')\n",
    "            return -1\n",
    "        num += val(str[i]) * power\n",
    "        power = power * base\n",
    "    return num\n",
    "     \n",
    "# Driver code\n",
    "strr = \"1100\"\n",
    "base = 2\n",
    "print('Decimal equivalent of', strr,\n",
    "              'in base', base, 'is',\n",
    "                 toDeci(strr, base))"
   ]
  },
  {
   "cell_type": "code",
   "execution_count": null,
   "id": "hundred-measure",
   "metadata": {},
   "outputs": [],
   "source": []
  },
  {
   "cell_type": "code",
   "execution_count": null,
   "id": "lesser-elite",
   "metadata": {},
   "outputs": [],
   "source": []
  },
  {
   "cell_type": "code",
   "execution_count": null,
   "id": "prime-banana",
   "metadata": {},
   "outputs": [],
   "source": []
  }
 ],
 "metadata": {
  "kernelspec": {
   "display_name": "Python 3",
   "language": "python",
   "name": "python3"
  },
  "language_info": {
   "codemirror_mode": {
    "name": "ipython",
    "version": 3
   },
   "file_extension": ".py",
   "mimetype": "text/x-python",
   "name": "python",
   "nbconvert_exporter": "python",
   "pygments_lexer": "ipython3",
   "version": "3.9.1"
  }
 },
 "nbformat": 4,
 "nbformat_minor": 5
}
