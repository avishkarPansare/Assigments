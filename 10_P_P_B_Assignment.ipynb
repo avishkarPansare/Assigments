{
 "cells": [
  {
   "cell_type": "markdown",
   "id": "interested-sharing",
   "metadata": {},
   "source": [
    "1.\tWrite a Python program to find sum of elements in list?\n"
   ]
  },
  {
   "cell_type": "code",
   "execution_count": 4,
   "id": "ranging-personality",
   "metadata": {},
   "outputs": [
    {
     "name": "stdout",
     "output_type": "stream",
     "text": [
      "Enter the n value :6\n",
      "Enter number :1\n",
      "Enter number :2\n",
      "Enter number :3\n",
      "Enter number :4\n",
      "Enter number :5\n",
      "Enter number :6\n",
      "The give list is [1, 2, 3, 4, 5, 6]\n",
      "The sum is 21\n"
     ]
    }
   ],
   "source": [
    "n=int(input(\"Enter the n value :\"))\n",
    "lst=[]\n",
    "for i in range(n):\n",
    "    num=int(input(\"Enter number :\"))\n",
    "    lst.append(num)\n",
    "\n",
    "print(\"The give list is {0}\\nThe sum is {1}\".format(lst,sum(lst)))"
   ]
  },
  {
   "cell_type": "code",
   "execution_count": null,
   "id": "duplicate-collapse",
   "metadata": {},
   "outputs": [],
   "source": []
  },
  {
   "cell_type": "markdown",
   "id": "happy-wrestling",
   "metadata": {},
   "source": [
    "2.\tWrite a Python program to  Multiply all numbers in the list?\n"
   ]
  },
  {
   "cell_type": "code",
   "execution_count": 11,
   "id": "legislative-julian",
   "metadata": {},
   "outputs": [
    {
     "name": "stdout",
     "output_type": "stream",
     "text": [
      "Enter the n value :5\n",
      "Enter number :1\n",
      "Enter number :2\n",
      "Enter number :6\n",
      "Enter number :3\n",
      "Enter number :8\n",
      "The give list is :[1, 2, 6, 3, 8]\n",
      "The multiply is :288\n"
     ]
    }
   ],
   "source": [
    "n=int(input(\"Enter the n value :\"))\n",
    "lst=[]\n",
    "for i in range(n):\n",
    "    num=int(input(\"Enter number :\"))\n",
    "    lst.append(num)\n",
    "result=1\n",
    "for x in lst:\n",
    "    result = result * x\n",
    "        \n",
    "print(\"The give list is :{0}\\nThe multiply is :{1}\".format(lst,result))"
   ]
  },
  {
   "cell_type": "code",
   "execution_count": null,
   "id": "provincial-region",
   "metadata": {},
   "outputs": [],
   "source": []
  },
  {
   "cell_type": "markdown",
   "id": "therapeutic-baltimore",
   "metadata": {},
   "source": [
    "3.\tWrite a Python program to find smallest number in a list?\n"
   ]
  },
  {
   "cell_type": "code",
   "execution_count": 12,
   "id": "neural-chaos",
   "metadata": {},
   "outputs": [
    {
     "name": "stdout",
     "output_type": "stream",
     "text": [
      "Enter the n value :5\n",
      "Enter number :12\n",
      "Enter number :67\n",
      "Enter number :3\n",
      "Enter number :11\n",
      "Enter number :1\n",
      "The give list is [12, 67, 3, 11, 1]\n",
      "The smallest number  is 1\n"
     ]
    }
   ],
   "source": [
    "n=int(input(\"Enter the n value :\"))\n",
    "lst=[]\n",
    "for i in range(n):\n",
    "    num=int(input(\"Enter number :\"))\n",
    "    lst.append(num)\n",
    "\n",
    "print(\"The give list is {0}\\nThe smallest number  is {1}\".format(lst,min(lst)))"
   ]
  },
  {
   "cell_type": "code",
   "execution_count": null,
   "id": "greek-artist",
   "metadata": {},
   "outputs": [],
   "source": []
  },
  {
   "cell_type": "markdown",
   "id": "sized-puppy",
   "metadata": {},
   "source": [
    "4.\tWrite a Python program to find largest number in a list?"
   ]
  },
  {
   "cell_type": "code",
   "execution_count": 13,
   "id": "ranging-cartoon",
   "metadata": {},
   "outputs": [
    {
     "name": "stdout",
     "output_type": "stream",
     "text": [
      "Enter the n value :4\n",
      "Enter number :-1\n",
      "Enter number :23\n",
      "Enter number :11\n",
      "Enter number :65\n",
      "The give list is [-1, 23, 11, 65]\n",
      "The  largest number  is 65\n"
     ]
    }
   ],
   "source": [
    "n=int(input(\"Enter the n value :\"))\n",
    "lst=[]\n",
    "for i in range(n):\n",
    "    num=int(input(\"Enter number :\"))\n",
    "    lst.append(num)\n",
    "\n",
    "print(\"The give list is {0}\\nThe  largest number  is {1}\".format(lst,max(lst)))"
   ]
  },
  {
   "cell_type": "code",
   "execution_count": null,
   "id": "limited-article",
   "metadata": {},
   "outputs": [],
   "source": []
  },
  {
   "cell_type": "markdown",
   "id": "incredible-alert",
   "metadata": {},
   "source": [
    "\n",
    "5.\tWrite a Python program to find second largest number in a list?\n"
   ]
  },
  {
   "cell_type": "code",
   "execution_count": 16,
   "id": "round-thesis",
   "metadata": {},
   "outputs": [
    {
     "name": "stdout",
     "output_type": "stream",
     "text": [
      "Enter the n value :4\n",
      "Enter number :11\n",
      "Enter number :22\n",
      "Enter number :10\n",
      "Enter number :34\n",
      "Second largest element is: 22\n"
     ]
    }
   ],
   "source": [
    "n=int(input(\"Enter the n value :\"))\n",
    "lst=[]\n",
    "for i in range(n):\n",
    "    num=int(input(\"Enter number :\"))\n",
    "    lst.append(num)\n",
    "\n",
    "\n",
    "lst.sort()\n",
    " \n",
    "# printing the second last element\n",
    "print(\"Second largest element is:\", lst[-2])"
   ]
  },
  {
   "cell_type": "code",
   "execution_count": 18,
   "id": "excess-dominican",
   "metadata": {},
   "outputs": [
    {
     "name": "stdout",
     "output_type": "stream",
     "text": [
      "Enter the n value :4\n",
      "Enter number :11\n",
      "Enter number :22\n",
      "Enter number :10\n",
      "Enter number :34\n",
      "Second largest element is: 22\n"
     ]
    }
   ],
   "source": [
    "n=int(input(\"Enter the n value :\"))\n",
    "lst=[]\n",
    "for i in range(n):\n",
    "    num=int(input(\"Enter number :\"))\n",
    "    lst.append(num)\n",
    "\n",
    "new_list = set(lst)\n",
    " \n",
    "# removing the largest element from temp list\n",
    "new_list.remove(max(new_list))\n",
    " \n",
    "# elements in original list are not changed\n",
    "# print(list1)\n",
    " \n",
    "print(\"Second largest element is:\",max(new_list))"
   ]
  },
  {
   "cell_type": "markdown",
   "id": "joined-yacht",
   "metadata": {},
   "source": [
    "6.\tWrite a Python program to find N largest elements from a list?\n",
    "\n"
   ]
  },
  {
   "cell_type": "code",
   "execution_count": 21,
   "id": "alert-stand",
   "metadata": {},
   "outputs": [
    {
     "name": "stdout",
     "output_type": "stream",
     "text": [
      "Enter the n value :5\n",
      "Enter number :1\n",
      "Enter number :6\n",
      "Enter number :3\n",
      "Enter number :9\n",
      "Enter number :1\n",
      "Enter the  N value :7\n",
      "Enter the  N value :3\n",
      "Second largest element is: 3\n"
     ]
    }
   ],
   "source": [
    "n=int(input(\"Enter the n value :\"))\n",
    "lst=[]\n",
    "for i in range(n):\n",
    "    num=int(input(\"Enter number :\"))\n",
    "    lst.append(num)\n",
    "\n",
    "while True:\n",
    "    N=int(input(\"Enter the  N value :\"))\n",
    "    if N < n:\n",
    "        break\n",
    "\n",
    "    \n",
    "lst.sort()\n",
    " \n",
    "# printing the second last element\n",
    "print(\"Second largest element is:\", lst[-N])"
   ]
  },
  {
   "cell_type": "code",
   "execution_count": null,
   "id": "operating-wrestling",
   "metadata": {},
   "outputs": [],
   "source": []
  },
  {
   "cell_type": "markdown",
   "id": "polyphonic-cologne",
   "metadata": {},
   "source": [
    "7.\tWrite a Python program to print even numbers in a list?\n"
   ]
  },
  {
   "cell_type": "code",
   "execution_count": 22,
   "id": "divine-anderson",
   "metadata": {},
   "outputs": [
    {
     "name": "stdout",
     "output_type": "stream",
     "text": [
      "Enter the n value :10\n",
      "Enter number :11\n",
      "Enter number :43\n",
      "Enter number :66\n",
      "Enter number :33\n",
      "Enter number :222\n",
      "Enter number :643\n",
      "Enter number :76\n",
      "Enter number :892\n",
      "Enter number :54\n",
      "Enter number :19\n",
      "Even Number is :\n",
      "66\t222\t76\t892\t54\t"
     ]
    }
   ],
   "source": [
    "n=int(input(\"Enter the n value :\"))\n",
    "lst=[]\n",
    "for i in range(n):\n",
    "    num=int(input(\"Enter number :\"))\n",
    "    lst.append(num)\n",
    "\n",
    "print(\"Even Number is :\")\n",
    "for i in lst:\n",
    "    if( i%2== 0):\n",
    "        print(i,end=\"\\t\")"
   ]
  },
  {
   "cell_type": "code",
   "execution_count": null,
   "id": "grateful-muslim",
   "metadata": {},
   "outputs": [],
   "source": []
  },
  {
   "cell_type": "markdown",
   "id": "stylish-providence",
   "metadata": {},
   "source": [
    "8.\tWrite a Python program to print odd numbers in a List?\n"
   ]
  },
  {
   "cell_type": "code",
   "execution_count": 23,
   "id": "rational-auckland",
   "metadata": {},
   "outputs": [
    {
     "name": "stdout",
     "output_type": "stream",
     "text": [
      "Enter the n value :6\n",
      "Enter number :12\n",
      "Enter number :33\n",
      "Enter number :441\n",
      "Enter number :78\n",
      "Enter number :43\n",
      "Enter number :970\n",
      "Odd  Number is :\n",
      "33\t441\t43\t"
     ]
    }
   ],
   "source": [
    "n=int(input(\"Enter the n value :\"))\n",
    "lst=[]\n",
    "for i in range(n):\n",
    "    num=int(input(\"Enter number :\"))\n",
    "    lst.append(num)\n",
    "\n",
    "print(\"Odd  Number is :\")\n",
    "for i in lst:\n",
    "    if( i%2!= 0):\n",
    "        print(i,end=\"\\t\")"
   ]
  },
  {
   "cell_type": "code",
   "execution_count": null,
   "id": "usual-cooperative",
   "metadata": {},
   "outputs": [],
   "source": []
  },
  {
   "cell_type": "markdown",
   "id": "vanilla-memorabilia",
   "metadata": {},
   "source": [
    "9.\tWrite a Python program to Remove empty List from List?\n"
   ]
  },
  {
   "cell_type": "code",
   "execution_count": 24,
   "id": "professional-worth",
   "metadata": {},
   "outputs": [
    {
     "name": "stdout",
     "output_type": "stream",
     "text": [
      "The original list is :  [5, 6, [], 3, [], [], 9]\n",
      "List after empty list removal :  [5, 6, 3, 9]\n"
     ]
    }
   ],
   "source": [
    "test_list = [5, 6, [], 3, [], [], 9]\n",
    "  \n",
    "print(\"The original list is : \",test_list)\n",
    "\n",
    "res = list(filter(None, test_list))\n",
    "  \n",
    "# printing result \n",
    "print (\"List after empty list removal : \" ,res)"
   ]
  },
  {
   "cell_type": "code",
   "execution_count": null,
   "id": "renewable-allen",
   "metadata": {},
   "outputs": [],
   "source": []
  },
  {
   "cell_type": "markdown",
   "id": "educational-decade",
   "metadata": {},
   "source": [
    "10.\tWrite a Python program to Cloning or Copying a list?\n"
   ]
  },
  {
   "cell_type": "code",
   "execution_count": 28,
   "id": "international-scene",
   "metadata": {},
   "outputs": [
    {
     "name": "stdout",
     "output_type": "stream",
     "text": [
      "Original List: [4, 8, 2, 10, 15, 18]\n",
      "After Cloning: [4, 8, 2, 10, 15, 18]\n"
     ]
    }
   ],
   "source": [
    "li1 = [4, 8, 2, 10, 15, 18]\n",
    "li2 = list(li1)\n",
    "print(\"Original List:\", li1)\n",
    "print(\"After Cloning:\", li2)\n"
   ]
  },
  {
   "cell_type": "code",
   "execution_count": 26,
   "id": "fuzzy-bottom",
   "metadata": {},
   "outputs": [
    {
     "name": "stdout",
     "output_type": "stream",
     "text": [
      "Original List: [4, 8, 2, 10, 15, 18]\n",
      "After Cloning: [4, 8, 2, 10, 15, 18]\n"
     ]
    }
   ],
   "source": [
    "li1 = [4, 8, 2, 10, 15, 18]\n",
    "li2 = li1\n",
    "print(\"Original List:\", li1)\n",
    "print(\"After Cloning:\", li2)"
   ]
  },
  {
   "cell_type": "code",
   "execution_count": 31,
   "id": "formal-series",
   "metadata": {},
   "outputs": [
    {
     "name": "stdout",
     "output_type": "stream",
     "text": [
      "Original List: [4, 8, 2, 10, 15, 18]\n",
      "After Cloning: [4, 8, 2, 10, 15, 18]\n"
     ]
    }
   ],
   "source": [
    "\n",
    "# Driver Code\n",
    "li1 = [4, 8, 2, 10, 15, 18]\n",
    "li3=[]\n",
    "li3.extend(li1)\n",
    "print(\"Original List:\", li1)\n",
    "print(\"After Cloning:\", li3)"
   ]
  },
  {
   "cell_type": "markdown",
   "id": "prompt-medicaid",
   "metadata": {},
   "source": [
    "11.\tWrite a Python program to Count occurrences of an element in a list?"
   ]
  },
  {
   "cell_type": "code",
   "execution_count": 33,
   "id": "tribal-margin",
   "metadata": {},
   "outputs": [
    {
     "name": "stdout",
     "output_type": "stream",
     "text": [
      "Enter the n value :10\n",
      "Enter number :1\n",
      "Enter number :2\n",
      "Enter number :3\n",
      "Enter number :4\n",
      "Enter number :2\n",
      "Enter number :6\n",
      "Enter number :2\n",
      "Enter number :8\n",
      "Enter number :5\n",
      "Enter number :2\n",
      "Enter number to get Count of occurrences is list :2\n",
      "The give list is :[1, 2, 3, 4, 2, 6, 2, 8, 5, 2]\n",
      "The 2 of Occurrence is 4 \n"
     ]
    }
   ],
   "source": [
    "n=int(input(\"Enter the n value :\"))\n",
    "lst=[]\n",
    "for i in range(n):\n",
    "    num=int(input(\"Enter number :\"))\n",
    "    lst.append(num)\n",
    "\n",
    "N=int(input(\"Enter number to get Count of occurrences is list :\"))\n",
    "count=0\n",
    "for i in lst:\n",
    "    if i==N:\n",
    "        count=count+1\n",
    "\n",
    "print(\"The give list is :{0}\\nThe {1} of Occurrence is {2} \".format(lst,N,count))"
   ]
  },
  {
   "cell_type": "code",
   "execution_count": null,
   "id": "extraordinary-first",
   "metadata": {},
   "outputs": [],
   "source": []
  },
  {
   "cell_type": "code",
   "execution_count": null,
   "id": "signal-injection",
   "metadata": {},
   "outputs": [],
   "source": []
  }
 ],
 "metadata": {
  "kernelspec": {
   "display_name": "Python 3",
   "language": "python",
   "name": "python3"
  },
  "language_info": {
   "codemirror_mode": {
    "name": "ipython",
    "version": 3
   },
   "file_extension": ".py",
   "mimetype": "text/x-python",
   "name": "python",
   "nbconvert_exporter": "python",
   "pygments_lexer": "ipython3",
   "version": "3.9.1"
  }
 },
 "nbformat": 4,
 "nbformat_minor": 5
}
