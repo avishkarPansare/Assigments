{
 "cells": [
  {
   "cell_type": "markdown",
   "id": "raising-macedonia",
   "metadata": {},
   "source": [
    "1.\tWrite a Python Program to Add Two Matrices?"
   ]
  },
  {
   "cell_type": "code",
   "execution_count": 3,
   "id": "proprietary-elite",
   "metadata": {},
   "outputs": [
    {
     "name": "stdout",
     "output_type": "stream",
     "text": [
      "[10, 10, 10]\n",
      "[10, 10, 10]\n",
      "[10, 10, 10]\n"
     ]
    }
   ],
   "source": [
    "\n",
    "X = [[1,2,3],[4 ,5,6],[7 ,8,9]]\n",
    "\n",
    "Y = [[9,8,7],[6,5,4],[3,2,1]]\n",
    "\n",
    "\n",
    "result = [[0,0,0],[0,0,0],[0,0,0]]\n",
    "\n",
    "for i in range(len(X)):\n",
    "    for j in range(len(X[0])):\n",
    "        result[i][j] = X[i][j] + Y[i][j]\n",
    "\n",
    "for r in result:\n",
    "    print(r)\n"
   ]
  },
  {
   "cell_type": "code",
   "execution_count": null,
   "id": "fiscal-patient",
   "metadata": {},
   "outputs": [],
   "source": []
  },
  {
   "cell_type": "markdown",
   "id": "restricted-austria",
   "metadata": {},
   "source": [
    "\n",
    "2.\tWrite a Python Program to Multiply Two Matrices?"
   ]
  },
  {
   "cell_type": "code",
   "execution_count": 4,
   "id": "flush-salvation",
   "metadata": {},
   "outputs": [
    {
     "name": "stdout",
     "output_type": "stream",
     "text": [
      "[35, 14, 44, 9]\n",
      "[77, 38, 101, 27]\n",
      "[119, 62, 158, 45]\n"
     ]
    }
   ],
   "source": [
    "# Program to multiply two matrices using nested loops\n",
    "\n",
    "# 3x3 matrix\n",
    "A = [[1,2,3],[4, 5, 6],[7, 8, 9]]\n",
    "\n",
    "# 3x4 matrix\n",
    "B = [[1,2,3,4],[5,6,7,1],[8,0,9,1]]\n",
    "\n",
    "\n",
    "result = [[0, 0, 0, 0],[0, 0, 0, 0],[0, 0, 0, 0]]\n",
    "\n",
    "# iterating by row of A\n",
    "for i in range(len(A)):\n",
    "# iterating by coloum by B\n",
    "    for j in range(len(B[0])):\n",
    "# iterating by rows of B\n",
    "        for k in range(len(B)):  \n",
    "            result[i][j] += A[i][k] * B[k][j]\n",
    "\n",
    "for r in result:\n",
    "\tprint(r)\n"
   ]
  },
  {
   "cell_type": "code",
   "execution_count": null,
   "id": "south-hepatitis",
   "metadata": {},
   "outputs": [],
   "source": []
  },
  {
   "cell_type": "markdown",
   "id": "senior-anderson",
   "metadata": {},
   "source": [
    "\n",
    "3.\tWrite a Python Program to Transpose a Matrix?"
   ]
  },
  {
   "cell_type": "code",
   "execution_count": 21,
   "id": "false-company",
   "metadata": {},
   "outputs": [
    {
     "name": "stdout",
     "output_type": "stream",
     "text": [
      "[[1, 2, 3], [4, 5, 6], [7, 8, 9]]\n",
      "1 4 7 \n",
      "2 5 8 \n",
      "3 6 9 \n"
     ]
    }
   ],
   "source": [
    "\n",
    "X = [[1,2,3],[4 ,5,6],[7 ,8,9]]\n",
    "print(X)\n",
    "for i in range (3):\n",
    "    for j in range (3):\n",
    "        print(X[j][i],end=\" \")\n",
    "    print()"
   ]
  },
  {
   "cell_type": "code",
   "execution_count": null,
   "id": "incorporated-metro",
   "metadata": {},
   "outputs": [],
   "source": []
  },
  {
   "cell_type": "markdown",
   "id": "distributed-fashion",
   "metadata": {},
   "source": [
    "\n",
    "4.\tWrite a Python Program to Sort Words in Alphabetic Order?"
   ]
  },
  {
   "cell_type": "code",
   "execution_count": 11,
   "id": "olive-literacy",
   "metadata": {},
   "outputs": [
    {
     "name": "stdout",
     "output_type": "stream",
     "text": [
      "Enter the number :4\n",
      "Enter Aplhabets :o\n",
      "Enter Aplhabets :e\n",
      "Enter Aplhabets :r\n",
      "Enter Aplhabets :a\n",
      "['o', 'e', 'r', 'a']\n"
     ]
    },
    {
     "data": {
      "text/plain": [
       "['a', 'e', 'o', 'r']"
      ]
     },
     "execution_count": 11,
     "metadata": {},
     "output_type": "execute_result"
    }
   ],
   "source": [
    "n=int(input(\"Enter the number :\"))\n",
    "alp_list=[]\n",
    "for i in range(n):\n",
    "    ch=input(\"Enter Aplhabets :\")\n",
    "    alp_list.append(ch)\n",
    "print(alp_list)\n",
    "\n",
    "alp_list.sort()\n",
    "\n",
    "alp_list"
   ]
  },
  {
   "cell_type": "code",
   "execution_count": null,
   "id": "danish-gender",
   "metadata": {},
   "outputs": [],
   "source": []
  },
  {
   "cell_type": "markdown",
   "id": "polar-diversity",
   "metadata": {},
   "source": [
    "\n",
    "5.\tWrite a Python Program to Remove Punctuation From a String?"
   ]
  },
  {
   "cell_type": "code",
   "execution_count": 26,
   "id": "sweet-indian",
   "metadata": {},
   "outputs": [
    {
     "name": "stdout",
     "output_type": "stream",
     "text": [
      "Before  : Welcome???@@##$ to#$% Python%$^for$%^& String program\n",
      "After : Welcome to Pythonfor String program\n"
     ]
    }
   ],
   "source": [
    "\n",
    "string=\"Welcome???@@##$ to#$% Python%$^for$%^& String program\"\n",
    "\n",
    "\n",
    "punctuations = '''!()-[]{};:'\"\\,<>./?@#$%^&*_~'''\n",
    "\n",
    "\n",
    "print(\"Before  :\",string)\n",
    "for x in string.lower():\n",
    "    if x in punctuations:\n",
    "        string = string.replace(x, \"\")\n",
    "print(\"After :\",string)"
   ]
  },
  {
   "cell_type": "code",
   "execution_count": null,
   "id": "efficient-counter",
   "metadata": {},
   "outputs": [],
   "source": []
  },
  {
   "cell_type": "code",
   "execution_count": null,
   "id": "allied-gabriel",
   "metadata": {},
   "outputs": [],
   "source": []
  }
 ],
 "metadata": {
  "kernelspec": {
   "display_name": "Python 3",
   "language": "python",
   "name": "python3"
  },
  "language_info": {
   "codemirror_mode": {
    "name": "ipython",
    "version": 3
   },
   "file_extension": ".py",
   "mimetype": "text/x-python",
   "name": "python",
   "nbconvert_exporter": "python",
   "pygments_lexer": "ipython3",
   "version": "3.9.1"
  }
 },
 "nbformat": 4,
 "nbformat_minor": 5
}
