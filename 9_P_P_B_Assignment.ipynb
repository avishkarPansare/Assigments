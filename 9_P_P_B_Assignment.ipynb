{
 "cells": [
  {
   "cell_type": "markdown",
   "id": "monetary-suspension",
   "metadata": {},
   "source": [
    "1.\tWrite a Python program to check if the given number is a Disarium Number?\n"
   ]
  },
  {
   "cell_type": "code",
   "execution_count": 7,
   "id": "technological-pledge",
   "metadata": {},
   "outputs": [
    {
     "name": "stdout",
     "output_type": "stream",
     "text": [
      "175 is a disarium number\n"
     ]
    }
   ],
   "source": [
    "\"\"\"\n",
    "\n",
    "Given a number “n”, find if it is Disarium or not. \n",
    "A number is called Disarium if sum of its digits powered with \n",
    "their respective positions is equal to the number itself.\n",
    "\n",
    "Input   : n = 135\n",
    "Output  : Yes \n",
    "1^1 + 3^2 + 5^3 = 135\n",
    "Therefore, 135 is a Disarium number\n",
    "\n",
    "\"\"\"\n",
    "\n",
    "\n",
    "   \n",
    "num = 175  \n",
    "rem = sum = 0\n",
    "l = len(str(num))    \n",
    "\n",
    "n = num   \n",
    "     \n",
    "while(num > 0):    \n",
    "    rem = num%10;    \n",
    "    sum = sum + int(rem**l)    \n",
    "    num = num//10    \n",
    "    l = l - 1;    \n",
    "         \n",
    "if(sum == n):    \n",
    "    print(str(n) + \" is a disarium number\")\n",
    "else:    \n",
    "    print(str(n) + \" is not a disarium number\") "
   ]
  },
  {
   "cell_type": "code",
   "execution_count": null,
   "id": "northern-geography",
   "metadata": {},
   "outputs": [],
   "source": []
  },
  {
   "cell_type": "markdown",
   "id": "modified-devil",
   "metadata": {},
   "source": [
    "2.\tWrite a Python program to print all disarium numbers between 1 to 100?\n"
   ]
  },
  {
   "cell_type": "code",
   "execution_count": 6,
   "id": "elegant-still",
   "metadata": {},
   "outputs": [
    {
     "name": "stdout",
     "output_type": "stream",
     "text": [
      "1 is a disarium number\n",
      "2 is a disarium number\n",
      "3 is a disarium number\n",
      "4 is a disarium number\n",
      "5 is a disarium number\n",
      "6 is a disarium number\n",
      "7 is a disarium number\n",
      "8 is a disarium number\n",
      "9 is a disarium number\n",
      "89 is a disarium number\n"
     ]
    }
   ],
   "source": [
    "for i in range(1,100):\n",
    "    num = i  \n",
    "    rem = sum = 0\n",
    "    l = len(str(num))    \n",
    "\n",
    "    n = num    \n",
    "\n",
    "    while(num > 0):    \n",
    "        rem = num%10;   \n",
    "        sum = sum + int(rem**l)    \n",
    "        num = num//10    \n",
    "        l = l - 1    \n",
    "\n",
    "    if(sum == n):    \n",
    "        print(str(n) + \" is a disarium number\")  "
   ]
  },
  {
   "cell_type": "code",
   "execution_count": null,
   "id": "developing-accuracy",
   "metadata": {},
   "outputs": [],
   "source": []
  },
  {
   "cell_type": "markdown",
   "id": "verbal-newcastle",
   "metadata": {},
   "source": [
    "3.\tWrite a Python program to check if the given number is Happy Number?\n"
   ]
  },
  {
   "cell_type": "code",
   "execution_count": 12,
   "id": "boxed-announcement",
   "metadata": {},
   "outputs": [
    {
     "name": "stdout",
     "output_type": "stream",
     "text": [
      "Enter the number :19\n",
      "The steps :\n",
      "82\n",
      "68\n",
      "100\n",
      "1\n",
      "\n",
      "19 is a happy number\n"
     ]
    }
   ],
   "source": [
    "\"\"\"\n",
    "\n",
    "A number is said to be happy if it yields 1 \n",
    "when replaced by the sum of squares of its digits repeatedly. \n",
    "If this process results in an endless cycle of numbers containing 4, then the number will be an unhappy number.\n",
    "\n",
    "Number = 32\n",
    "32+ 22 = 13\n",
    "12 + 32 = 10\n",
    "12 + 02 = 1\n",
    "\n",
    "\"\"\"\n",
    "\n",
    "def isHappyNumber(num):    \n",
    "    rem = sum = 0            \n",
    "    while(num > 0):    \n",
    "        rem = num%10    \n",
    "        sum = sum + (rem*rem)    \n",
    "        num = num//10    \n",
    "    return sum    \n",
    "        \n",
    "num =int(input('Enter the number :'))    \n",
    "result = num   \n",
    "print(\"The steps :\")   \n",
    "while(result != 1 and result != 4):    \n",
    "    result = isHappyNumber(result)\n",
    "    print(result)\n",
    " \n",
    "print()\n",
    "if(result == 1):    \n",
    "    print(str(num) + \" is a happy number\")   \n",
    "elif(result == 4):    \n",
    "    print(str(num) + \" is not a happy number\");   "
   ]
  },
  {
   "cell_type": "code",
   "execution_count": null,
   "id": "cathedral-transmission",
   "metadata": {},
   "outputs": [],
   "source": []
  },
  {
   "cell_type": "markdown",
   "id": "contrary-queue",
   "metadata": {},
   "source": [
    "4.\tWrite a Python program to print all happy numbers between 1 and 100?\n"
   ]
  },
  {
   "cell_type": "code",
   "execution_count": 3,
   "id": "careful-zimbabwe",
   "metadata": {},
   "outputs": [
    {
     "name": "stdout",
     "output_type": "stream",
     "text": [
      "1  is a happy number\n",
      "7  is a happy number\n",
      "10  is a happy number\n",
      "13  is a happy number\n",
      "19  is a happy number\n",
      "23  is a happy number\n",
      "28  is a happy number\n",
      "31  is a happy number\n",
      "32  is a happy number\n",
      "44  is a happy number\n",
      "49  is a happy number\n",
      "68  is a happy number\n",
      "70  is a happy number\n",
      "79  is a happy number\n",
      "82  is a happy number\n",
      "86  is a happy number\n",
      "91  is a happy number\n",
      "94  is a happy number\n",
      "97  is a happy number\n"
     ]
    }
   ],
   "source": [
    "def isHappyNumber(num):    \n",
    "    rem = sum = 0            \n",
    "    while(num > 0):    \n",
    "        rem = num%10    \n",
    "        sum = sum + (rem*rem)    \n",
    "        num = num//10    \n",
    "    return sum    \n",
    "        \n",
    "for i in range(1,100):\n",
    "    result = i   \n",
    "   # print(\"The steps :\")   \n",
    "    while(result != 1 and result != 4):    \n",
    "        result = isHappyNumber(result)\n",
    "      #  print(result)\n",
    "\n",
    "   # print()\n",
    "    if(result == 1):    \n",
    "        print(i ,\" is a happy number\")   \n",
    "        "
   ]
  },
  {
   "cell_type": "code",
   "execution_count": null,
   "id": "collect-deadline",
   "metadata": {},
   "outputs": [],
   "source": []
  },
  {
   "cell_type": "markdown",
   "id": "ahead-holmes",
   "metadata": {},
   "source": [
    "5.\tWrite a Python program to determine whether the given number is a Harshad Number?\n"
   ]
  },
  {
   "cell_type": "code",
   "execution_count": null,
   "id": "comfortable-calculation",
   "metadata": {},
   "outputs": [],
   "source": [
    "\"\"\"\n",
    "\n",
    "An integer number in base 10 which is divisible by sum of it digits is said to be a Harshad Number.\n",
    "\n",
    "Input: 3\n",
    "Output: 3 is a Harshad Number\n",
    "\n",
    "Input: 18\n",
    "Output: 18 is a Harshad Number\n",
    "\n",
    "Input: 15\n",
    "Output: 15 is not a Harshad Number\n",
    "\n",
    "\"\"\""
   ]
  },
  {
   "cell_type": "code",
   "execution_count": 4,
   "id": "essential-advocacy",
   "metadata": {},
   "outputs": [
    {
     "name": "stdout",
     "output_type": "stream",
     "text": [
      "Enter the number :123\n",
      "123 is not a  Harshad Number\n"
     ]
    }
   ],
   "source": [
    "num=int(input(\"Enter the number :\"))\n",
    "sum=0\n",
    "for i in str(num):\n",
    "    sum=sum+int(i)\n",
    "    \n",
    "ans=num%sum\n",
    "if ans==0:\n",
    "    print(num,\"is a Harshad Number\")\n",
    "else:\n",
    "    print(num,\"is not a  Harshad Number\")"
   ]
  },
  {
   "cell_type": "markdown",
   "id": "nutritional-signature",
   "metadata": {},
   "source": [
    "6.\tWrite a Python program to print all pronic numbers between 1 and 100?\n"
   ]
  },
  {
   "cell_type": "code",
   "execution_count": 5,
   "id": "recovered-projection",
   "metadata": {},
   "outputs": [
    {
     "name": "stdout",
     "output_type": "stream",
     "text": [
      "1 is a Harshad Number\n",
      "2 is a Harshad Number\n",
      "3 is a Harshad Number\n",
      "4 is a Harshad Number\n",
      "5 is a Harshad Number\n",
      "6 is a Harshad Number\n",
      "7 is a Harshad Number\n",
      "8 is a Harshad Number\n",
      "9 is a Harshad Number\n",
      "10 is a Harshad Number\n",
      "12 is a Harshad Number\n",
      "18 is a Harshad Number\n",
      "20 is a Harshad Number\n",
      "21 is a Harshad Number\n",
      "24 is a Harshad Number\n",
      "27 is a Harshad Number\n",
      "30 is a Harshad Number\n",
      "36 is a Harshad Number\n",
      "40 is a Harshad Number\n",
      "42 is a Harshad Number\n",
      "45 is a Harshad Number\n",
      "48 is a Harshad Number\n",
      "50 is a Harshad Number\n",
      "54 is a Harshad Number\n",
      "60 is a Harshad Number\n",
      "63 is a Harshad Number\n",
      "70 is a Harshad Number\n",
      "72 is a Harshad Number\n",
      "80 is a Harshad Number\n",
      "81 is a Harshad Number\n",
      "84 is a Harshad Number\n",
      "90 is a Harshad Number\n"
     ]
    }
   ],
   "source": [
    "for i in range(1,100):\n",
    "    num=i\n",
    "    sum=0\n",
    "    for i in str(num):\n",
    "        sum=sum+int(i)\n",
    "\n",
    "    ans=num%sum\n",
    "    if ans==0:\n",
    "        print(num,\"is a Harshad Number\")"
   ]
  },
  {
   "cell_type": "code",
   "execution_count": null,
   "id": "guided-ireland",
   "metadata": {},
   "outputs": [],
   "source": []
  },
  {
   "cell_type": "code",
   "execution_count": null,
   "id": "thousand-devon",
   "metadata": {},
   "outputs": [],
   "source": []
  }
 ],
 "metadata": {
  "kernelspec": {
   "display_name": "Python 3",
   "language": "python",
   "name": "python3"
  },
  "language_info": {
   "codemirror_mode": {
    "name": "ipython",
    "version": 3
   },
   "file_extension": ".py",
   "mimetype": "text/x-python",
   "name": "python",
   "nbconvert_exporter": "python",
   "pygments_lexer": "ipython3",
   "version": "3.9.1"
  }
 },
 "nbformat": 4,
 "nbformat_minor": 5
}
